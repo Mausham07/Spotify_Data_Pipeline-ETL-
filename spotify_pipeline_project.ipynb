{
 "cells": [
  {
   "cell_type": "code",
   "execution_count": 2,
   "metadata": {},
   "outputs": [
    {
     "name": "stdout",
     "output_type": "stream",
     "text": [
      "Requirement already satisfied: spotipy in /Library/Frameworks/Python.framework/Versions/3.12/lib/python3.12/site-packages (2.23.0)\n",
      "Requirement already satisfied: redis>=3.5.3 in /Library/Frameworks/Python.framework/Versions/3.12/lib/python3.12/site-packages (from spotipy) (5.0.4)\n",
      "Requirement already satisfied: requests>=2.25.0 in /Library/Frameworks/Python.framework/Versions/3.12/lib/python3.12/site-packages (from spotipy) (2.31.0)\n",
      "Requirement already satisfied: six>=1.15.0 in /Library/Frameworks/Python.framework/Versions/3.12/lib/python3.12/site-packages (from spotipy) (1.16.0)\n",
      "Requirement already satisfied: urllib3>=1.26.0 in /Library/Frameworks/Python.framework/Versions/3.12/lib/python3.12/site-packages (from spotipy) (2.1.0)\n",
      "Requirement already satisfied: charset-normalizer<4,>=2 in /Library/Frameworks/Python.framework/Versions/3.12/lib/python3.12/site-packages (from requests>=2.25.0->spotipy) (3.3.2)\n",
      "Requirement already satisfied: idna<4,>=2.5 in /Library/Frameworks/Python.framework/Versions/3.12/lib/python3.12/site-packages (from requests>=2.25.0->spotipy) (3.6)\n",
      "Requirement already satisfied: certifi>=2017.4.17 in /Library/Frameworks/Python.framework/Versions/3.12/lib/python3.12/site-packages (from requests>=2.25.0->spotipy) (2023.11.17)\n",
      "\n",
      "\u001b[1m[\u001b[0m\u001b[34;49mnotice\u001b[0m\u001b[1;39;49m]\u001b[0m\u001b[39;49m A new release of pip is available: \u001b[0m\u001b[31;49m23.2.1\u001b[0m\u001b[39;49m -> \u001b[0m\u001b[32;49m24.0\u001b[0m\n",
      "\u001b[1m[\u001b[0m\u001b[34;49mnotice\u001b[0m\u001b[1;39;49m]\u001b[0m\u001b[39;49m To update, run: \u001b[0m\u001b[32;49mpip3 install --upgrade pip\u001b[0m\n",
      "Note: you may need to restart the kernel to use updated packages.\n"
     ]
    }
   ],
   "source": [
    "pip install spotipy"
   ]
  },
  {
   "cell_type": "code",
   "execution_count": 3,
   "metadata": {},
   "outputs": [],
   "source": [
    "# Import needed functions\n",
    "\n",
    "import spotipy\n",
    "from spotipy.oauth2 import SpotifyClientCredentials\n",
    "import pandas as pd"
   ]
  },
  {
   "cell_type": "code",
   "execution_count": 4,
   "metadata": {},
   "outputs": [],
   "source": [
    "# Get the credentials\n",
    "\n",
    "client_credentials_mannager = SpotifyClientCredentials(client_id=\"6513a1133a274434ac9deb9ad1e7ba8d\", client_secret=\"8e263e7ad87b482ebc3ed1e1706536a5\")"
   ]
  },
  {
   "cell_type": "code",
   "execution_count": 5,
   "metadata": {},
   "outputs": [],
   "source": [
    "# Authorize the credentials\n",
    "\n",
    "sp = spotipy.Spotify(client_credentials_manager=client_credentials_mannager)"
   ]
  },
  {
   "cell_type": "code",
   "execution_count": 6,
   "metadata": {},
   "outputs": [],
   "source": [
    "# Get the link of top global songs\n",
    "\n",
    "playlist_link = \"https://open.spotify.com/playlist/37i9dQZEVXbNG2KDcFcKOF\""
   ]
  },
  {
   "cell_type": "code",
   "execution_count": 7,
   "metadata": {},
   "outputs": [],
   "source": [
    "# Extract the key\n",
    "\n",
    "playlist_URI = playlist_link.split('/')[-1]"
   ]
  },
  {
   "cell_type": "code",
   "execution_count": 8,
   "metadata": {},
   "outputs": [],
   "source": [
    "# Storing the json data we got using API\n",
    "\n",
    "data = sp.playlist_tracks(playlist_URI)\n"
   ]
  },
  {
   "cell_type": "code",
   "execution_count": 9,
   "metadata": {},
   "outputs": [],
   "source": [
    "# create list of dictionary extracting important keys we need from the messy json data for albums\n",
    "\n",
    "album_list =[]\n",
    "for row in data['items']:\n",
    "    album_name = row['track']['album']['name']\n",
    "    album_id = row['track']['album']['id']\n",
    "    album_release_date = row['track']['album']['release_date']\n",
    "    album_url = row['track']['album']['external_urls']['spotify']\n",
    "    album_total_tracks = row['track']['album']['total_tracks']\n",
    "\n",
    "    album_dictionary = {\"album_name\": album_name, \"album_id\":album_id, \"album_release_date\": album_release_date, \"album_url\": album_url, \n",
    "                        \"album_total_tracks\": album_total_tracks}\n",
    "    album_list.append(album_dictionary)\n",
    "\n"
   ]
  },
  {
   "cell_type": "code",
   "execution_count": 10,
   "metadata": {},
   "outputs": [],
   "source": [
    "# create list of dictionary extracting important keys we need from the messy json data for artists\n",
    "\n",
    "artist_list = []\n",
    "for row in data['items']:\n",
    "    artist_name = row['track']['artists'][0]['name']\n",
    "    artist_id = row['track']['artists'][0]['id']\n",
    "    artist_url = row['track']['artists'][0]['href']\n",
    "\n",
    "    artist_dict = {\"artist_name\": artist_name, \"artist_id\": artist_id, \"artist_url\": artist_url}\n",
    "    artist_list.append(artist_dict)"
   ]
  },
  {
   "cell_type": "code",
   "execution_count": 11,
   "metadata": {},
   "outputs": [
    {
     "data": {
      "text/plain": [
       "'2024-05-17T09:18:55Z'"
      ]
     },
     "execution_count": 11,
     "metadata": {},
     "output_type": "execute_result"
    }
   ],
   "source": [
    "data['items'][1]['added_at']"
   ]
  },
  {
   "cell_type": "code",
   "execution_count": 12,
   "metadata": {},
   "outputs": [],
   "source": [
    "# Created the list of dict extracting important keys for the data from messy json data for songs\n",
    "\n",
    "song_list = []\n",
    "for row in data['items']:\n",
    "    song_id= row['track']['id']\n",
    "    song_name = row['track']['name']\n",
    "    song_duration = row['track']['duration_ms']\n",
    "    song_popularity = row['track']['popularity']\n",
    "    song_added = row['added_at']\n",
    "    album_id = row['track']['album']['id']\n",
    "    artist_id = row['track']['artists'][0]['id']\n",
    "\n",
    "    song_dict = {\"song_id\": song_id, \"song_name\": song_name, \"song_duration\": song_duration, \"song_popularity\": song_popularity, \n",
    "                 \"song_added\": song_added,\n",
    "                 \"album_id\": album_id, \"artist_id\": artist_id}\n",
    "    \n",
    "    song_list.append(song_dict)\n",
    "\n"
   ]
  },
  {
   "cell_type": "code",
   "execution_count": 16,
   "metadata": {},
   "outputs": [],
   "source": [
    "# Convert the list of dictionary into data frame for all album, song and artist\n",
    "\n",
    "album_df = pd.DataFrame.from_dict(album_list)\n",
    "\n",
    "artist_df = pd.DataFrame.from_dict(artist_list)\n",
    "\n",
    "song_df = pd.DataFrame.from_dict(song_list)\n"
   ]
  },
  {
   "cell_type": "code",
   "execution_count": 19,
   "metadata": {},
   "outputs": [],
   "source": [
    "album_df = album_df.drop_duplicates(subset=['album_id'])"
   ]
  },
  {
   "cell_type": "code",
   "execution_count": null,
   "metadata": {},
   "outputs": [
    {
     "name": "stdout",
     "output_type": "stream",
     "text": [
      "<class 'pandas.core.frame.DataFrame'>\n",
      "RangeIndex: 50 entries, 0 to 49\n",
      "Data columns (total 3 columns):\n",
      " #   Column       Non-Null Count  Dtype \n",
      "---  ------       --------------  ----- \n",
      " 0   artist_name  50 non-null     object\n",
      " 1   artist_id    50 non-null     object\n",
      " 2   artist_url   50 non-null     object\n",
      "dtypes: object(3)\n",
      "memory usage: 1.3+ KB\n"
     ]
    }
   ],
   "source": [
    "artist_df.head()"
   ]
  },
  {
   "cell_type": "code",
   "execution_count": 20,
   "metadata": {},
   "outputs": [],
   "source": [
    "artist_df = artist_df.drop_duplicates(subset=['artist_id'])"
   ]
  },
  {
   "cell_type": "code",
   "execution_count": null,
   "metadata": {},
   "outputs": [
    {
     "data": {
      "text/html": [
       "<div>\n",
       "<style scoped>\n",
       "    .dataframe tbody tr th:only-of-type {\n",
       "        vertical-align: middle;\n",
       "    }\n",
       "\n",
       "    .dataframe tbody tr th {\n",
       "        vertical-align: top;\n",
       "    }\n",
       "\n",
       "    .dataframe thead th {\n",
       "        text-align: right;\n",
       "    }\n",
       "</style>\n",
       "<table border=\"1\" class=\"dataframe\">\n",
       "  <thead>\n",
       "    <tr style=\"text-align: right;\">\n",
       "      <th></th>\n",
       "      <th>song_id</th>\n",
       "      <th>song_name</th>\n",
       "      <th>song_duration</th>\n",
       "      <th>song_popularity</th>\n",
       "      <th>song_added</th>\n",
       "      <th>album_id</th>\n",
       "      <th>artist_id</th>\n",
       "    </tr>\n",
       "  </thead>\n",
       "  <tbody>\n",
       "    <tr>\n",
       "      <th>0</th>\n",
       "      <td>7fzHQizxTqy8wTXwlrgPQQ</td>\n",
       "      <td>MILLION DOLLAR BABY</td>\n",
       "      <td>155151</td>\n",
       "      <td>97</td>\n",
       "      <td>2024-05-17T09:18:55Z</td>\n",
       "      <td>52TwRwdTUMtkpglbOE5IRz</td>\n",
       "      <td>1WaFQSHVGZQJTbf0BdxdNo</td>\n",
       "    </tr>\n",
       "    <tr>\n",
       "      <th>1</th>\n",
       "      <td>6AI3ezQ4o3HUoP6Dhudph3</td>\n",
       "      <td>Not Like Us</td>\n",
       "      <td>274192</td>\n",
       "      <td>97</td>\n",
       "      <td>2024-05-17T09:18:55Z</td>\n",
       "      <td>5JjnoGJyOxfSZUZtk2rRwZ</td>\n",
       "      <td>2YZyLoL8N0Wb9xBt1NhZWg</td>\n",
       "    </tr>\n",
       "    <tr>\n",
       "      <th>2</th>\n",
       "      <td>7221xIgOnuakPdLqT0F3nP</td>\n",
       "      <td>I Had Some Help (Feat. Morgan Wallen)</td>\n",
       "      <td>178205</td>\n",
       "      <td>93</td>\n",
       "      <td>2024-05-17T09:18:55Z</td>\n",
       "      <td>1woYXxyyxTQJ0E0AhZE6mj</td>\n",
       "      <td>246dkjvS1zLTtiykXe5h60</td>\n",
       "    </tr>\n",
       "    <tr>\n",
       "      <th>3</th>\n",
       "      <td>2qSkIjg1o9h3YT9RAgYN75</td>\n",
       "      <td>Espresso</td>\n",
       "      <td>175459</td>\n",
       "      <td>99</td>\n",
       "      <td>2024-05-17T09:18:55Z</td>\n",
       "      <td>5quMTd5zeI9yW5UDua8wS4</td>\n",
       "      <td>74KM79TiuVKeVCqs8QtB0B</td>\n",
       "    </tr>\n",
       "    <tr>\n",
       "      <th>4</th>\n",
       "      <td>2GxrNKugF82CnoRFbQfzPf</td>\n",
       "      <td>i like the way you kiss me</td>\n",
       "      <td>142514</td>\n",
       "      <td>100</td>\n",
       "      <td>2024-05-17T09:18:55Z</td>\n",
       "      <td>5HIWDdg3g9CTOtnevKDl1z</td>\n",
       "      <td>0PCCGZ0wGLizHt2KZ7hhA2</td>\n",
       "    </tr>\n",
       "  </tbody>\n",
       "</table>\n",
       "</div>"
      ],
      "text/plain": [
       "                  song_id                              song_name  \\\n",
       "0  7fzHQizxTqy8wTXwlrgPQQ                    MILLION DOLLAR BABY   \n",
       "1  6AI3ezQ4o3HUoP6Dhudph3                            Not Like Us   \n",
       "2  7221xIgOnuakPdLqT0F3nP  I Had Some Help (Feat. Morgan Wallen)   \n",
       "3  2qSkIjg1o9h3YT9RAgYN75                               Espresso   \n",
       "4  2GxrNKugF82CnoRFbQfzPf             i like the way you kiss me   \n",
       "\n",
       "   song_duration  song_popularity            song_added  \\\n",
       "0         155151               97  2024-05-17T09:18:55Z   \n",
       "1         274192               97  2024-05-17T09:18:55Z   \n",
       "2         178205               93  2024-05-17T09:18:55Z   \n",
       "3         175459               99  2024-05-17T09:18:55Z   \n",
       "4         142514              100  2024-05-17T09:18:55Z   \n",
       "\n",
       "                 album_id               artist_id  \n",
       "0  52TwRwdTUMtkpglbOE5IRz  1WaFQSHVGZQJTbf0BdxdNo  \n",
       "1  5JjnoGJyOxfSZUZtk2rRwZ  2YZyLoL8N0Wb9xBt1NhZWg  \n",
       "2  1woYXxyyxTQJ0E0AhZE6mj  246dkjvS1zLTtiykXe5h60  \n",
       "3  5quMTd5zeI9yW5UDua8wS4  74KM79TiuVKeVCqs8QtB0B  \n",
       "4  5HIWDdg3g9CTOtnevKDl1z  0PCCGZ0wGLizHt2KZ7hhA2  "
      ]
     },
     "execution_count": 71,
     "metadata": {},
     "output_type": "execute_result"
    }
   ],
   "source": [
    "song_df.head()"
   ]
  },
  {
   "cell_type": "code",
   "execution_count": null,
   "metadata": {},
   "outputs": [
    {
     "data": {
      "text/html": [
       "<div>\n",
       "<style scoped>\n",
       "    .dataframe tbody tr th:only-of-type {\n",
       "        vertical-align: middle;\n",
       "    }\n",
       "\n",
       "    .dataframe tbody tr th {\n",
       "        vertical-align: top;\n",
       "    }\n",
       "\n",
       "    .dataframe thead th {\n",
       "        text-align: right;\n",
       "    }\n",
       "</style>\n",
       "<table border=\"1\" class=\"dataframe\">\n",
       "  <thead>\n",
       "    <tr style=\"text-align: right;\">\n",
       "      <th></th>\n",
       "      <th>album_name</th>\n",
       "      <th>album_id</th>\n",
       "      <th>album_release_date</th>\n",
       "      <th>album_url</th>\n",
       "      <th>album_total_tracks</th>\n",
       "    </tr>\n",
       "  </thead>\n",
       "  <tbody>\n",
       "    <tr>\n",
       "      <th>0</th>\n",
       "      <td>MILLION DOLLAR BABY</td>\n",
       "      <td>52TwRwdTUMtkpglbOE5IRz</td>\n",
       "      <td>2024-04-26</td>\n",
       "      <td>https://open.spotify.com/album/52TwRwdTUMtkpgl...</td>\n",
       "      <td>2</td>\n",
       "    </tr>\n",
       "    <tr>\n",
       "      <th>1</th>\n",
       "      <td>Not Like Us</td>\n",
       "      <td>5JjnoGJyOxfSZUZtk2rRwZ</td>\n",
       "      <td>2024-05-04</td>\n",
       "      <td>https://open.spotify.com/album/5JjnoGJyOxfSZUZ...</td>\n",
       "      <td>1</td>\n",
       "    </tr>\n",
       "    <tr>\n",
       "      <th>2</th>\n",
       "      <td>I Had Some Help</td>\n",
       "      <td>1woYXxyyxTQJ0E0AhZE6mj</td>\n",
       "      <td>2024-05-10</td>\n",
       "      <td>https://open.spotify.com/album/1woYXxyyxTQJ0E0...</td>\n",
       "      <td>1</td>\n",
       "    </tr>\n",
       "    <tr>\n",
       "      <th>3</th>\n",
       "      <td>Espresso</td>\n",
       "      <td>5quMTd5zeI9yW5UDua8wS4</td>\n",
       "      <td>2024-04-12</td>\n",
       "      <td>https://open.spotify.com/album/5quMTd5zeI9yW5U...</td>\n",
       "      <td>1</td>\n",
       "    </tr>\n",
       "    <tr>\n",
       "      <th>4</th>\n",
       "      <td>i like the way you kiss me</td>\n",
       "      <td>5HIWDdg3g9CTOtnevKDl1z</td>\n",
       "      <td>2024-03-19</td>\n",
       "      <td>https://open.spotify.com/album/5HIWDdg3g9CTOtn...</td>\n",
       "      <td>1</td>\n",
       "    </tr>\n",
       "  </tbody>\n",
       "</table>\n",
       "</div>"
      ],
      "text/plain": [
       "                   album_name                album_id album_release_date  \\\n",
       "0         MILLION DOLLAR BABY  52TwRwdTUMtkpglbOE5IRz         2024-04-26   \n",
       "1                 Not Like Us  5JjnoGJyOxfSZUZtk2rRwZ         2024-05-04   \n",
       "2             I Had Some Help  1woYXxyyxTQJ0E0AhZE6mj         2024-05-10   \n",
       "3                    Espresso  5quMTd5zeI9yW5UDua8wS4         2024-04-12   \n",
       "4  i like the way you kiss me  5HIWDdg3g9CTOtnevKDl1z         2024-03-19   \n",
       "\n",
       "                                           album_url  album_total_tracks  \n",
       "0  https://open.spotify.com/album/52TwRwdTUMtkpgl...                   2  \n",
       "1  https://open.spotify.com/album/5JjnoGJyOxfSZUZ...                   1  \n",
       "2  https://open.spotify.com/album/1woYXxyyxTQJ0E0...                   1  \n",
       "3  https://open.spotify.com/album/5quMTd5zeI9yW5U...                   1  \n",
       "4  https://open.spotify.com/album/5HIWDdg3g9CTOtn...                   1  "
      ]
     },
     "execution_count": 76,
     "metadata": {},
     "output_type": "execute_result"
    }
   ],
   "source": [
    "album_df.head()"
   ]
  },
  {
   "cell_type": "code",
   "execution_count": null,
   "metadata": {},
   "outputs": [
    {
     "name": "stdout",
     "output_type": "stream",
     "text": [
      "<class 'pandas.core.frame.DataFrame'>\n",
      "RangeIndex: 50 entries, 0 to 49\n",
      "Data columns (total 5 columns):\n",
      " #   Column              Non-Null Count  Dtype         \n",
      "---  ------              --------------  -----         \n",
      " 0   album_name          50 non-null     object        \n",
      " 1   album_id            50 non-null     object        \n",
      " 2   album_release_date  50 non-null     datetime64[ns]\n",
      " 3   album_url           50 non-null     object        \n",
      " 4   album_total_tracks  50 non-null     int64         \n",
      "dtypes: datetime64[ns](1), int64(1), object(3)\n",
      "memory usage: 2.1+ KB\n"
     ]
    }
   ],
   "source": [
    "album_df['album_release_date']= pd.to_datetime(album_df['album_release_date'])\n",
    "album_df.info()"
   ]
  },
  {
   "cell_type": "code",
   "execution_count": null,
   "metadata": {},
   "outputs": [
    {
     "name": "stdout",
     "output_type": "stream",
     "text": [
      "<class 'pandas.core.frame.DataFrame'>\n",
      "RangeIndex: 50 entries, 0 to 49\n",
      "Data columns (total 7 columns):\n",
      " #   Column           Non-Null Count  Dtype              \n",
      "---  ------           --------------  -----              \n",
      " 0   song_id          50 non-null     object             \n",
      " 1   song_name        50 non-null     object             \n",
      " 2   song_duration    50 non-null     int64              \n",
      " 3   song_popularity  50 non-null     int64              \n",
      " 4   song_added       50 non-null     datetime64[ns, UTC]\n",
      " 5   album_id         50 non-null     object             \n",
      " 6   artist_id        50 non-null     object             \n",
      "dtypes: datetime64[ns, UTC](1), int64(2), object(4)\n",
      "memory usage: 2.9+ KB\n"
     ]
    }
   ],
   "source": [
    "song_df['song_added']= pd.to_datetime(song_df['song_added'])\n",
    "song_df.info()"
   ]
  },
  {
   "cell_type": "code",
   "execution_count": null,
   "metadata": {},
   "outputs": [
    {
     "name": "stdout",
     "output_type": "stream",
     "text": [
      "    song_duration  song_popularity\n",
      "0          155151               97\n",
      "1          274192               97\n",
      "3          175459               99\n",
      "5          228965               96\n",
      "6          171291               96\n",
      "7          222000               98\n",
      "11         159245               97\n",
      "14         267706               96\n"
     ]
    }
   ],
   "source": [
    "# Assuming song_df is your DataFrame\n",
    "\n",
    "# Applying the filter conditions\n",
    "filtered_df = song_df[(song_df['song_duration'] > 150000) & (song_df['song_popularity'] > 95)]\n",
    "\n",
    "# Selecting only the 'song_duration' and 'song_popularity' columns\n",
    "filtered_columns_df = filtered_df[['song_duration', 'song_popularity']]\n",
    "\n",
    "# Printing the resulting DataFrame with the selected columns\n",
    "print(filtered_columns_df)\n"
   ]
  }
 ],
 "metadata": {
  "kernelspec": {
   "display_name": "Python 3",
   "language": "python",
   "name": "python3"
  },
  "language_info": {
   "codemirror_mode": {
    "name": "ipython",
    "version": 3
   },
   "file_extension": ".py",
   "mimetype": "text/x-python",
   "name": "python",
   "nbconvert_exporter": "python",
   "pygments_lexer": "ipython3",
   "version": "3.12.0"
  }
 },
 "nbformat": 4,
 "nbformat_minor": 2
}
