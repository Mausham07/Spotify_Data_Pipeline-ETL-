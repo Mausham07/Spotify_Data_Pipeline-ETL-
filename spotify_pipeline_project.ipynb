{
 "cells": [
  {
   "cell_type": "code",
   "execution_count": 3,
   "metadata": {},
   "outputs": [
    {
     "name": "stdout",
     "output_type": "stream",
     "text": [
      "Collecting spotipy\n",
      "  Obtaining dependency information for spotipy from https://files.pythonhosted.org/packages/b8/e8/4c099f9431ec9a86f576b344702cd4446d1ff7df09b172dc1951f25d58b1/spotipy-2.23.0-py3-none-any.whl.metadata\n",
      "  Downloading spotipy-2.23.0-py3-none-any.whl.metadata (3.3 kB)\n",
      "Collecting redis>=3.5.3 (from spotipy)\n",
      "  Obtaining dependency information for redis>=3.5.3 from https://files.pythonhosted.org/packages/65/f2/540ad07910732733138beb192991c67c69e7f6ebf549ce1a3a77846cbae7/redis-5.0.4-py3-none-any.whl.metadata\n",
      "  Downloading redis-5.0.4-py3-none-any.whl.metadata (9.3 kB)\n",
      "Requirement already satisfied: requests>=2.25.0 in /Library/Frameworks/Python.framework/Versions/3.12/lib/python3.12/site-packages (from spotipy) (2.31.0)\n",
      "Requirement already satisfied: six>=1.15.0 in /Library/Frameworks/Python.framework/Versions/3.12/lib/python3.12/site-packages (from spotipy) (1.16.0)\n",
      "Requirement already satisfied: urllib3>=1.26.0 in /Library/Frameworks/Python.framework/Versions/3.12/lib/python3.12/site-packages (from spotipy) (2.1.0)\n",
      "Requirement already satisfied: charset-normalizer<4,>=2 in /Library/Frameworks/Python.framework/Versions/3.12/lib/python3.12/site-packages (from requests>=2.25.0->spotipy) (3.3.2)\n",
      "Requirement already satisfied: idna<4,>=2.5 in /Library/Frameworks/Python.framework/Versions/3.12/lib/python3.12/site-packages (from requests>=2.25.0->spotipy) (3.6)\n",
      "Requirement already satisfied: certifi>=2017.4.17 in /Library/Frameworks/Python.framework/Versions/3.12/lib/python3.12/site-packages (from requests>=2.25.0->spotipy) (2023.11.17)\n",
      "Downloading spotipy-2.23.0-py3-none-any.whl (29 kB)\n",
      "Downloading redis-5.0.4-py3-none-any.whl (251 kB)\n",
      "\u001b[2K   \u001b[90m━━━━━━━━━━━━━━━━━━━━━━━━━━━━━━━━━━━━━━━\u001b[0m \u001b[32m252.0/252.0 kB\u001b[0m \u001b[31m410.6 kB/s\u001b[0m eta \u001b[36m0:00:00\u001b[0ma \u001b[36m0:00:01\u001b[0m\n",
      "\u001b[?25hInstalling collected packages: redis, spotipy\n",
      "Successfully installed redis-5.0.4 spotipy-2.23.0\n",
      "\n",
      "\u001b[1m[\u001b[0m\u001b[34;49mnotice\u001b[0m\u001b[1;39;49m]\u001b[0m\u001b[39;49m A new release of pip is available: \u001b[0m\u001b[31;49m23.2.1\u001b[0m\u001b[39;49m -> \u001b[0m\u001b[32;49m24.0\u001b[0m\n",
      "\u001b[1m[\u001b[0m\u001b[34;49mnotice\u001b[0m\u001b[1;39;49m]\u001b[0m\u001b[39;49m To update, run: \u001b[0m\u001b[32;49mpip3 install --upgrade pip\u001b[0m\n",
      "Note: you may need to restart the kernel to use updated packages.\n"
     ]
    }
   ],
   "source": [
    "pip install spotipy"
   ]
  },
  {
   "cell_type": "code",
   "execution_count": 4,
   "metadata": {},
   "outputs": [],
   "source": [
    "# Import needed functions\n",
    "\n",
    "import spotipy\n",
    "from spotipy.oauth2 import SpotifyClientCredentials"
   ]
  },
  {
   "cell_type": "code",
   "execution_count": 5,
   "metadata": {},
   "outputs": [],
   "source": [
    "# Get the credentials\n",
    "\n",
    "client_credentials_mannager = SpotifyClientCredentials(client_id=\"6513a1133a274434ac9deb9ad1e7ba8d\", client_secret=\"8e263e7ad87b482ebc3ed1e1706536a5\")"
   ]
  },
  {
   "cell_type": "code",
   "execution_count": 9,
   "metadata": {},
   "outputs": [],
   "source": [
    "# Authorize the credentials\n",
    "\n",
    "sp = spotipy.Spotify(client_credentials_manager=client_credentials_mannager)"
   ]
  },
  {
   "cell_type": "code",
   "execution_count": 6,
   "metadata": {},
   "outputs": [],
   "source": [
    "# Get the link of top global songs\n",
    "\n",
    "playlist_link = \"https://open.spotify.com/playlist/37i9dQZEVXbNG2KDcFcKOF\""
   ]
  },
  {
   "cell_type": "code",
   "execution_count": 12,
   "metadata": {},
   "outputs": [],
   "source": [
    "# Extract the key\n",
    "\n",
    "playlist_URI = playlist_link.split('/')[-1]"
   ]
  },
  {
   "cell_type": "code",
   "execution_count": 16,
   "metadata": {},
   "outputs": [],
   "source": [
    "# Storing the json data we got using API\n",
    "\n",
    "data = sp.playlist_tracks(playlist_URI)"
   ]
  },
  {
   "cell_type": "code",
   "execution_count": 37,
   "metadata": {},
   "outputs": [
    {
     "name": "stdout",
     "output_type": "stream",
     "text": [
      "[{'album_name': 'MILLION DOLLAR BABY', 'album_id': '52TwRwdTUMtkpglbOE5IRz', 'album_release_date': '2024-04-26', 'album_url': 'https://open.spotify.com/album/52TwRwdTUMtkpglbOE5IRz', 'album_total_tracks': 2}, {'album_name': 'Not Like Us', 'album_id': '5JjnoGJyOxfSZUZtk2rRwZ', 'album_release_date': '2024-05-04', 'album_url': 'https://open.spotify.com/album/5JjnoGJyOxfSZUZtk2rRwZ', 'album_total_tracks': 1}, {'album_name': 'I Had Some Help', 'album_id': '1woYXxyyxTQJ0E0AhZE6mj', 'album_release_date': '2024-05-10', 'album_url': 'https://open.spotify.com/album/1woYXxyyxTQJ0E0AhZE6mj', 'album_total_tracks': 1}, {'album_name': 'Espresso', 'album_id': '5quMTd5zeI9yW5UDua8wS4', 'album_release_date': '2024-04-12', 'album_url': 'https://open.spotify.com/album/5quMTd5zeI9yW5UDua8wS4', 'album_total_tracks': 1}, {'album_name': 'i like the way you kiss me', 'album_id': '5HIWDdg3g9CTOtnevKDl1z', 'album_release_date': '2024-03-19', 'album_url': 'https://open.spotify.com/album/5HIWDdg3g9CTOtnevKDl1z', 'album_total_tracks': 1}, {'album_name': 'THE TORTURED POETS DEPARTMENT', 'album_id': '1Mo4aZ8pdj6L1jx8zSwJnt', 'album_release_date': '2024-04-18', 'album_url': 'https://open.spotify.com/album/1Mo4aZ8pdj6L1jx8zSwJnt', 'album_total_tracks': 16}, {'album_name': 'A Bar Song (Tipsy)', 'album_id': '6egBeCLeGITzGSo5VyRjwZ', 'album_release_date': '2024-04-12', 'album_url': 'https://open.spotify.com/album/6egBeCLeGITzGSo5VyRjwZ', 'album_total_tracks': 1}, {'album_name': 'Gata Only', 'album_id': '5tSQtQGkrCJx3hoQxmLgfM', 'album_release_date': '2024-02-02', 'album_url': 'https://open.spotify.com/album/5tSQtQGkrCJx3hoQxmLgfM', 'album_total_tracks': 1}, {'album_name': 'Unreal Unearth: Unheard', 'album_id': '3P4SQqMMgjqfqVxgLwtYRk', 'album_release_date': '2024-03-22', 'album_url': 'https://open.spotify.com/album/3P4SQqMMgjqfqVxgLwtYRk', 'album_total_tracks': 20}, {'album_name': 'Fireworks & Rollerblades', 'album_id': '168CdR21lfn0TTyw1Pkdcm', 'album_release_date': '2024-04-05', 'album_url': 'https://open.spotify.com/album/168CdR21lfn0TTyw1Pkdcm', 'album_total_tracks': 15}, {'album_name': 'eternal sunshine', 'album_id': '5EYKrEDnKhhcNxGedaRQeK', 'album_release_date': '2024-03-08', 'album_url': 'https://open.spotify.com/album/5EYKrEDnKhhcNxGedaRQeK', 'album_total_tracks': 13}, {'album_name': 'DECIDE', 'album_id': '4JDXBZdRPId4devseaAOKH', 'album_release_date': '2022-09-16', 'album_url': 'https://open.spotify.com/album/4JDXBZdRPId4devseaAOKH', 'album_total_tracks': 13}, {'album_name': 'euphoria', 'album_id': '32bR4LcEc1PvJEhaKoo4ZN', 'album_release_date': '2024-04-30', 'album_url': 'https://open.spotify.com/album/32bR4LcEc1PvJEhaKoo4ZN', 'album_total_tracks': 1}, {'album_name': 'THE TORTURED POETS DEPARTMENT', 'album_id': '1Mo4aZ8pdj6L1jx8zSwJnt', 'album_release_date': '2024-04-18', 'album_url': 'https://open.spotify.com/album/1Mo4aZ8pdj6L1jx8zSwJnt', 'album_total_tracks': 16}, {'album_name': \"WE DON'T TRUST YOU\", 'album_id': '4iqbFIdGOTzXeDtt9owjQn', 'album_release_date': '2024-03-22', 'album_url': 'https://open.spotify.com/album/4iqbFIdGOTzXeDtt9owjQn', 'album_total_tracks': 17}, {'album_name': \"I've Tried Everything But Therapy (Part 1)\", 'album_id': '7nacKlk586eLRBSIsrk9DB', 'album_release_date': '2023-09-15', 'album_url': 'https://open.spotify.com/album/7nacKlk586eLRBSIsrk9DB', 'album_total_tracks': 10}, {'album_name': 'Santa', 'album_id': '0SqUi6bPIlAaWfvZibBfia', 'album_release_date': '2024-04-04', 'album_url': 'https://open.spotify.com/album/0SqUi6bPIlAaWfvZibBfia', 'album_total_tracks': 1}, {'album_name': 'The Idol Episode 4 (Music from the HBO Original Series)', 'album_id': '7tzVd1fwkxsorytCBjEJkU', 'album_release_date': '2023-06-23', 'album_url': 'https://open.spotify.com/album/7tzVd1fwkxsorytCBjEJkU', 'album_total_tracks': 3}, {'album_name': 'Belong Together', 'album_id': '3PlCMwyq6nuQYtoYproV1o', 'album_release_date': '2024-02-16', 'album_url': 'https://open.spotify.com/album/3PlCMwyq6nuQYtoYproV1o', 'album_total_tracks': 1}, {'album_name': 'Saturn', 'album_id': '1fmBMCSSkSlvxyoy1vut2k', 'album_release_date': '2024-02-22', 'album_url': 'https://open.spotify.com/album/1fmBMCSSkSlvxyoy1vut2k', 'album_total_tracks': 5}, {'album_name': 'THE TORTURED POETS DEPARTMENT', 'album_id': '1Mo4aZ8pdj6L1jx8zSwJnt', 'album_release_date': '2024-04-18', 'album_url': 'https://open.spotify.com/album/1Mo4aZ8pdj6L1jx8zSwJnt', 'album_total_tracks': 16}, {'album_name': 'Lover', 'album_id': '1NAmidJlEaVgA3MpcPFYGq', 'album_release_date': '2019-08-23', 'album_url': 'https://open.spotify.com/album/1NAmidJlEaVgA3MpcPFYGq', 'album_total_tracks': 18}, {'album_name': 'Madonna', 'album_id': '0QZVRL2HC24voXfxWmpHvd', 'album_release_date': '2024-03-08', 'album_url': 'https://open.spotify.com/album/0QZVRL2HC24voXfxWmpHvd', 'album_total_tracks': 1}, {'album_name': \"Harry's House\", 'album_id': '5r36AJ6VOJtp00oxSkBZ5h', 'album_release_date': '2022-05-20', 'album_url': 'https://open.spotify.com/album/5r36AJ6VOJtp00oxSkBZ5h', 'album_total_tracks': 13}, {'album_name': 'What Happens Now?', 'album_id': '40HsqPqeSR9Xe3IyAJWr6e', 'album_release_date': '2024-02-16', 'album_url': 'https://open.spotify.com/album/40HsqPqeSR9Xe3IyAJWr6e', 'album_total_tracks': 8}, {'album_name': 'greedy', 'album_id': '3UOV8XvCwMKaATRNXrYCjN', 'album_release_date': '2023-09-15', 'album_url': 'https://open.spotify.com/album/3UOV8XvCwMKaATRNXrYCjN', 'album_total_tracks': 1}, {'album_name': 'THE TORTURED POETS DEPARTMENT', 'album_id': '1Mo4aZ8pdj6L1jx8zSwJnt', 'album_release_date': '2024-04-18', 'album_url': 'https://open.spotify.com/album/1Mo4aZ8pdj6L1jx8zSwJnt', 'album_total_tracks': 16}, {'album_name': 'FERXXOCALIPSIS', 'album_id': '0lgs2Sa82lyX89nBUWyUy6', 'album_release_date': '2023-12-01', 'album_url': 'https://open.spotify.com/album/0lgs2Sa82lyX89nBUWyUy6', 'album_total_tracks': 10}, {'album_name': 'UTOPIA', 'album_id': '18NOKLkZETa4sWwLMIm0UZ', 'album_release_date': '2023-07-28', 'album_url': 'https://open.spotify.com/album/18NOKLkZETa4sWwLMIm0UZ', 'album_total_tracks': 19}, {'album_name': 'Pedro', 'album_id': '5y6RXjI5VPR0RyInghTbf1', 'album_release_date': '2024-03-29', 'album_url': 'https://open.spotify.com/album/5y6RXjI5VPR0RyInghTbf1', 'album_total_tracks': 1}, {'album_name': 'Europapa', 'album_id': '3v1pSXwPFLvjQWbcN1iwKS', 'album_release_date': '2024-02-29', 'album_url': 'https://open.spotify.com/album/3v1pSXwPFLvjQWbcN1iwKS', 'album_total_tracks': 2}, {'album_name': 'SUPER REAL ME', 'album_id': '6irebIc6UO8fN0jl4UlzBS', 'album_release_date': '2024-03-25', 'album_url': 'https://open.spotify.com/album/6irebIc6UO8fN0jl4UlzBS', 'album_total_tracks': 4}, {'album_name': 'Fireworks & Rollerblades', 'album_id': '168CdR21lfn0TTyw1Pkdcm', 'album_release_date': '2024-04-05', 'album_url': 'https://open.spotify.com/album/168CdR21lfn0TTyw1Pkdcm', 'album_total_tracks': 15}, {'album_name': 'Stick Season', 'album_id': '50ZenUP4O2Q5eCy2NRNvuz', 'album_release_date': '2022-10-14', 'album_url': 'https://open.spotify.com/album/50ZenUP4O2Q5eCy2NRNvuz', 'album_total_tracks': 14}, {'album_name': 'THE TORTURED POETS DEPARTMENT', 'album_id': '1Mo4aZ8pdj6L1jx8zSwJnt', 'album_release_date': '2024-04-18', 'album_url': 'https://open.spotify.com/album/1Mo4aZ8pdj6L1jx8zSwJnt', 'album_total_tracks': 16}, {'album_name': 'THE TORTURED POETS DEPARTMENT', 'album_id': '1Mo4aZ8pdj6L1jx8zSwJnt', 'album_release_date': '2024-04-18', 'album_url': 'https://open.spotify.com/album/1Mo4aZ8pdj6L1jx8zSwJnt', 'album_total_tracks': 16}, {'album_name': 'I Love You.', 'album_id': '4xkM0BwLM9H2IUcbYzpcBI', 'album_release_date': '2013-04-19', 'album_url': 'https://open.spotify.com/album/4xkM0BwLM9H2IUcbYzpcBI', 'album_total_tracks': 11}, {'album_name': 'ADIVINO', 'album_id': '3sRyLQf04m9vm40JNRFiCl', 'album_release_date': '2024-04-25', 'album_url': 'https://open.spotify.com/album/3sRyLQf04m9vm40JNRFiCl', 'album_total_tracks': 1}, {'album_name': 'AM', 'album_id': '78bpIziExqiI9qztvNFlQu', 'album_release_date': '2013-09-09', 'album_url': 'https://open.spotify.com/album/78bpIziExqiI9qztvNFlQu', 'album_total_tracks': 12}, {'album_name': 'Good Luck, Babe!', 'album_id': '1WAjjRMfZjEXtB0lQrAw6Q', 'album_release_date': '2024-04-05', 'album_url': 'https://open.spotify.com/album/1WAjjRMfZjEXtB0lQrAw6Q', 'album_total_tracks': 1}, {'album_name': 'Tell Ur Girlfriend', 'album_id': '0S8DGX9LmBkRSVi3ywcCOT', 'album_release_date': '2024-02-07', 'album_url': 'https://open.spotify.com/album/0S8DGX9LmBkRSVi3ywcCOT', 'album_total_tracks': 1}, {'album_name': 'THE TORTURED POETS DEPARTMENT', 'album_id': '1Mo4aZ8pdj6L1jx8zSwJnt', 'album_release_date': '2024-04-18', 'album_url': 'https://open.spotify.com/album/1Mo4aZ8pdj6L1jx8zSwJnt', 'album_total_tracks': 16}, {'album_name': 'The Land Is Inhospitable and So Are We', 'album_id': '2Cn1d2KgbkAqbZCJ1RzdkA', 'album_release_date': '2023-09-15', 'album_url': 'https://open.spotify.com/album/2Cn1d2KgbkAqbZCJ1RzdkA', 'album_total_tracks': 11}, {'album_name': 'The Code', 'album_id': '30euLVaktPWmngBsGDUYdA', 'album_release_date': '2024-02-29', 'album_url': 'https://open.spotify.com/album/30euLVaktPWmngBsGDUYdA', 'album_total_tracks': 1}, {'album_name': 'THE TORTURED POETS DEPARTMENT', 'album_id': '1Mo4aZ8pdj6L1jx8zSwJnt', 'album_release_date': '2024-04-18', 'album_url': 'https://open.spotify.com/album/1Mo4aZ8pdj6L1jx8zSwJnt', 'album_total_tracks': 16}, {'album_name': 'meet the grahams', 'album_id': '5PGH88Cwual1Nj8d2RsKP0', 'album_release_date': '2024-05-03', 'album_url': 'https://open.spotify.com/album/5PGH88Cwual1Nj8d2RsKP0', 'album_total_tracks': 1}, {'album_name': 'Strange Trails', 'album_id': '4sD1qg4jwTZR4mvR4Iflk5', 'album_release_date': '2015-04-06', 'album_url': 'https://open.spotify.com/album/4sD1qg4jwTZR4mvR4Iflk5', 'album_total_tracks': 14}, {'album_name': 'Family Matters', 'album_id': '3qwCuSISrIUpyt6sB5edmQ', 'album_release_date': '2024-05-03', 'album_url': 'https://open.spotify.com/album/3qwCuSISrIUpyt6sB5edmQ', 'album_total_tracks': 1}, {'album_name': 'Si No Quieres No', 'album_id': '6WkOBnYkj6y5iSr14uhUZF', 'album_release_date': '2024-03-10', 'album_url': 'https://open.spotify.com/album/6WkOBnYkj6y5iSr14uhUZF', 'album_total_tracks': 1}, {'album_name': 'COWBOY CARTER', 'album_id': '6BzxX6zkDsYKFJ04ziU5xQ', 'album_release_date': '2024-03-29', 'album_url': 'https://open.spotify.com/album/6BzxX6zkDsYKFJ04ziU5xQ', 'album_total_tracks': 27}]\n"
     ]
    }
   ],
   "source": [
    "# create list of dictionary extracting important keys we need from the messy json data for albums\n",
    "\n",
    "album_list =[]\n",
    "for row in data['items']:\n",
    "    album_name = row['track']['album']['name']\n",
    "    album_id = row['track']['album']['id']\n",
    "    album_release_date = row['track']['album']['release_date']\n",
    "    album_url = row['track']['album']['external_urls']['spotify']\n",
    "    album_total_tracks = row['track']['album']['total_tracks']\n",
    "\n",
    "    album_dictionary = {\"album_name\": album_name, \"album_id\":album_id, \"album_release_date\": album_release_date, \"album_url\": album_url, \"album_total_tracks\": album_total_tracks}\n",
    "    album_list.append(album_dictionary)\n",
    "\n",
    "print(album_list)"
   ]
  },
  {
   "cell_type": "code",
   "execution_count": 52,
   "metadata": {},
   "outputs": [],
   "source": [
    "# create list of dictionary extracting important keys we need from the messy json data for artists\n",
    "\n",
    "artist_list = []\n",
    "for row in data['items']:\n",
    "    artist_name = row['track']['artists'][0]['name']\n",
    "    artist_id = row['track']['artists'][0]['id']\n",
    "    artist_url = row['track']['artists'][0]['href']\n",
    "\n",
    "    artist_dict = {\"artist_name\": artist_name, \"artist_id\": artist_id, \"artist_url\": artist_url}\n",
    "    artist_list.append(artist_dict)"
   ]
  },
  {
   "cell_type": "code",
   "execution_count": 61,
   "metadata": {},
   "outputs": [
    {
     "data": {
      "text/plain": [
       "'2024-05-17T09:18:55Z'"
      ]
     },
     "execution_count": 61,
     "metadata": {},
     "output_type": "execute_result"
    }
   ],
   "source": [
    "data['items'][1]['added_at']"
   ]
  },
  {
   "cell_type": "code",
   "execution_count": 59,
   "metadata": {},
   "outputs": [],
   "source": [
    "# Created the list of dict extracting important keys for the data from messy json data for songs\n",
    "\n",
    "song_list = []\n",
    "for row in data['items']:\n",
    "    song_id= row['track']['id']\n",
    "    song_name = row['track']['name']\n",
    "    song_duration = row['track']['duration_ms']\n",
    "    song_popularity = row['track']['popularity']\n",
    "    song_added = row['added_at']\n",
    "    album_id = row['track']['album']['id']\n",
    "    artist_id = row['track']['artists'][0]['id']\n",
    "\n",
    "    song_dict = {\"song_id\": song_id, \"song_name\": song_name, \"song_duration\": song_duration, \"song_popularity\": song_popularity, \"song_added\": song_added,\n",
    "                 \"album_id\": album_id, \"artist_id\": artist_id}\n",
    "    \n",
    "    song_list.append(song_dict)\n"
   ]
  },
  {
   "cell_type": "code",
   "execution_count": null,
   "metadata": {},
   "outputs": [],
   "source": []
  }
 ],
 "metadata": {
  "kernelspec": {
   "display_name": "Python 3",
   "language": "python",
   "name": "python3"
  },
  "language_info": {
   "codemirror_mode": {
    "name": "ipython",
    "version": 3
   },
   "file_extension": ".py",
   "mimetype": "text/x-python",
   "name": "python",
   "nbconvert_exporter": "python",
   "pygments_lexer": "ipython3",
   "version": "3.12.0"
  }
 },
 "nbformat": 4,
 "nbformat_minor": 2
}
