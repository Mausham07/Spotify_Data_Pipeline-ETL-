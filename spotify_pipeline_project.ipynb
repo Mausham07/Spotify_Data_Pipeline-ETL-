{
 "cells": [
  {
   "cell_type": "code",
   "execution_count": 3,
   "metadata": {},
   "outputs": [
    {
     "name": "stdout",
     "output_type": "stream",
     "text": [
      "Collecting spotipy\n",
      "  Obtaining dependency information for spotipy from https://files.pythonhosted.org/packages/b8/e8/4c099f9431ec9a86f576b344702cd4446d1ff7df09b172dc1951f25d58b1/spotipy-2.23.0-py3-none-any.whl.metadata\n",
      "  Downloading spotipy-2.23.0-py3-none-any.whl.metadata (3.3 kB)\n",
      "Collecting redis>=3.5.3 (from spotipy)\n",
      "  Obtaining dependency information for redis>=3.5.3 from https://files.pythonhosted.org/packages/65/f2/540ad07910732733138beb192991c67c69e7f6ebf549ce1a3a77846cbae7/redis-5.0.4-py3-none-any.whl.metadata\n",
      "  Downloading redis-5.0.4-py3-none-any.whl.metadata (9.3 kB)\n",
      "Requirement already satisfied: requests>=2.25.0 in /Library/Frameworks/Python.framework/Versions/3.12/lib/python3.12/site-packages (from spotipy) (2.31.0)\n",
      "Requirement already satisfied: six>=1.15.0 in /Library/Frameworks/Python.framework/Versions/3.12/lib/python3.12/site-packages (from spotipy) (1.16.0)\n",
      "Requirement already satisfied: urllib3>=1.26.0 in /Library/Frameworks/Python.framework/Versions/3.12/lib/python3.12/site-packages (from spotipy) (2.1.0)\n",
      "Requirement already satisfied: charset-normalizer<4,>=2 in /Library/Frameworks/Python.framework/Versions/3.12/lib/python3.12/site-packages (from requests>=2.25.0->spotipy) (3.3.2)\n",
      "Requirement already satisfied: idna<4,>=2.5 in /Library/Frameworks/Python.framework/Versions/3.12/lib/python3.12/site-packages (from requests>=2.25.0->spotipy) (3.6)\n",
      "Requirement already satisfied: certifi>=2017.4.17 in /Library/Frameworks/Python.framework/Versions/3.12/lib/python3.12/site-packages (from requests>=2.25.0->spotipy) (2023.11.17)\n",
      "Downloading spotipy-2.23.0-py3-none-any.whl (29 kB)\n",
      "Downloading redis-5.0.4-py3-none-any.whl (251 kB)\n",
      "\u001b[2K   \u001b[90m━━━━━━━━━━━━━━━━━━━━━━━━━━━━━━━━━━━━━━━\u001b[0m \u001b[32m252.0/252.0 kB\u001b[0m \u001b[31m410.6 kB/s\u001b[0m eta \u001b[36m0:00:00\u001b[0ma \u001b[36m0:00:01\u001b[0m\n",
      "\u001b[?25hInstalling collected packages: redis, spotipy\n",
      "Successfully installed redis-5.0.4 spotipy-2.23.0\n",
      "\n",
      "\u001b[1m[\u001b[0m\u001b[34;49mnotice\u001b[0m\u001b[1;39;49m]\u001b[0m\u001b[39;49m A new release of pip is available: \u001b[0m\u001b[31;49m23.2.1\u001b[0m\u001b[39;49m -> \u001b[0m\u001b[32;49m24.0\u001b[0m\n",
      "\u001b[1m[\u001b[0m\u001b[34;49mnotice\u001b[0m\u001b[1;39;49m]\u001b[0m\u001b[39;49m To update, run: \u001b[0m\u001b[32;49mpip3 install --upgrade pip\u001b[0m\n",
      "Note: you may need to restart the kernel to use updated packages.\n"
     ]
    }
   ],
   "source": [
    "pip install spotipy"
   ]
  },
  {
   "cell_type": "code",
   "execution_count": 65,
   "metadata": {},
   "outputs": [],
   "source": [
    "# Import needed functions\n",
    "\n",
    "import spotipy\n",
    "from spotipy.oauth2 import SpotifyClientCredentials\n",
    "import pandas as pd"
   ]
  },
  {
   "cell_type": "code",
   "execution_count": 5,
   "metadata": {},
   "outputs": [],
   "source": [
    "# Get the credentials\n",
    "\n",
    "client_credentials_mannager = SpotifyClientCredentials(client_id=\"6513a1133a274434ac9deb9ad1e7ba8d\", client_secret=\"8e263e7ad87b482ebc3ed1e1706536a5\")"
   ]
  },
  {
   "cell_type": "code",
   "execution_count": 9,
   "metadata": {},
   "outputs": [],
   "source": [
    "# Authorize the credentials\n",
    "\n",
    "sp = spotipy.Spotify(client_credentials_manager=client_credentials_mannager)"
   ]
  },
  {
   "cell_type": "code",
   "execution_count": 6,
   "metadata": {},
   "outputs": [],
   "source": [
    "# Get the link of top global songs\n",
    "\n",
    "playlist_link = \"https://open.spotify.com/playlist/37i9dQZEVXbNG2KDcFcKOF\""
   ]
  },
  {
   "cell_type": "code",
   "execution_count": 12,
   "metadata": {},
   "outputs": [],
   "source": [
    "# Extract the key\n",
    "\n",
    "playlist_URI = playlist_link.split('/')[-1]"
   ]
  },
  {
   "cell_type": "code",
   "execution_count": 64,
   "metadata": {},
   "outputs": [],
   "source": [
    "# Storing the json data we got using API\n",
    "\n",
    "data = sp.playlist_tracks(playlist_URI)\n"
   ]
  },
  {
   "cell_type": "code",
   "execution_count": 37,
   "metadata": {},
   "outputs": [
    {
     "name": "stdout",
     "output_type": "stream",
     "text": [
      "[{'album_name': 'MILLION DOLLAR BABY', 'album_id': '52TwRwdTUMtkpglbOE5IRz', 'album_release_date': '2024-04-26', 'album_url': 'https://open.spotify.com/album/52TwRwdTUMtkpglbOE5IRz', 'album_total_tracks': 2}, {'album_name': 'Not Like Us', 'album_id': '5JjnoGJyOxfSZUZtk2rRwZ', 'album_release_date': '2024-05-04', 'album_url': 'https://open.spotify.com/album/5JjnoGJyOxfSZUZtk2rRwZ', 'album_total_tracks': 1}, {'album_name': 'I Had Some Help', 'album_id': '1woYXxyyxTQJ0E0AhZE6mj', 'album_release_date': '2024-05-10', 'album_url': 'https://open.spotify.com/album/1woYXxyyxTQJ0E0AhZE6mj', 'album_total_tracks': 1}, {'album_name': 'Espresso', 'album_id': '5quMTd5zeI9yW5UDua8wS4', 'album_release_date': '2024-04-12', 'album_url': 'https://open.spotify.com/album/5quMTd5zeI9yW5UDua8wS4', 'album_total_tracks': 1}, {'album_name': 'i like the way you kiss me', 'album_id': '5HIWDdg3g9CTOtnevKDl1z', 'album_release_date': '2024-03-19', 'album_url': 'https://open.spotify.com/album/5HIWDdg3g9CTOtnevKDl1z', 'album_total_tracks': 1}, {'album_name': 'THE TORTURED POETS DEPARTMENT', 'album_id': '1Mo4aZ8pdj6L1jx8zSwJnt', 'album_release_date': '2024-04-18', 'album_url': 'https://open.spotify.com/album/1Mo4aZ8pdj6L1jx8zSwJnt', 'album_total_tracks': 16}, {'album_name': 'A Bar Song (Tipsy)', 'album_id': '6egBeCLeGITzGSo5VyRjwZ', 'album_release_date': '2024-04-12', 'album_url': 'https://open.spotify.com/album/6egBeCLeGITzGSo5VyRjwZ', 'album_total_tracks': 1}, {'album_name': 'Gata Only', 'album_id': '5tSQtQGkrCJx3hoQxmLgfM', 'album_release_date': '2024-02-02', 'album_url': 'https://open.spotify.com/album/5tSQtQGkrCJx3hoQxmLgfM', 'album_total_tracks': 1}, {'album_name': 'Unreal Unearth: Unheard', 'album_id': '3P4SQqMMgjqfqVxgLwtYRk', 'album_release_date': '2024-03-22', 'album_url': 'https://open.spotify.com/album/3P4SQqMMgjqfqVxgLwtYRk', 'album_total_tracks': 20}, {'album_name': 'Fireworks & Rollerblades', 'album_id': '168CdR21lfn0TTyw1Pkdcm', 'album_release_date': '2024-04-05', 'album_url': 'https://open.spotify.com/album/168CdR21lfn0TTyw1Pkdcm', 'album_total_tracks': 15}, {'album_name': 'eternal sunshine', 'album_id': '5EYKrEDnKhhcNxGedaRQeK', 'album_release_date': '2024-03-08', 'album_url': 'https://open.spotify.com/album/5EYKrEDnKhhcNxGedaRQeK', 'album_total_tracks': 13}, {'album_name': 'DECIDE', 'album_id': '4JDXBZdRPId4devseaAOKH', 'album_release_date': '2022-09-16', 'album_url': 'https://open.spotify.com/album/4JDXBZdRPId4devseaAOKH', 'album_total_tracks': 13}, {'album_name': 'euphoria', 'album_id': '32bR4LcEc1PvJEhaKoo4ZN', 'album_release_date': '2024-04-30', 'album_url': 'https://open.spotify.com/album/32bR4LcEc1PvJEhaKoo4ZN', 'album_total_tracks': 1}, {'album_name': 'THE TORTURED POETS DEPARTMENT', 'album_id': '1Mo4aZ8pdj6L1jx8zSwJnt', 'album_release_date': '2024-04-18', 'album_url': 'https://open.spotify.com/album/1Mo4aZ8pdj6L1jx8zSwJnt', 'album_total_tracks': 16}, {'album_name': \"WE DON'T TRUST YOU\", 'album_id': '4iqbFIdGOTzXeDtt9owjQn', 'album_release_date': '2024-03-22', 'album_url': 'https://open.spotify.com/album/4iqbFIdGOTzXeDtt9owjQn', 'album_total_tracks': 17}, {'album_name': \"I've Tried Everything But Therapy (Part 1)\", 'album_id': '7nacKlk586eLRBSIsrk9DB', 'album_release_date': '2023-09-15', 'album_url': 'https://open.spotify.com/album/7nacKlk586eLRBSIsrk9DB', 'album_total_tracks': 10}, {'album_name': 'Santa', 'album_id': '0SqUi6bPIlAaWfvZibBfia', 'album_release_date': '2024-04-04', 'album_url': 'https://open.spotify.com/album/0SqUi6bPIlAaWfvZibBfia', 'album_total_tracks': 1}, {'album_name': 'The Idol Episode 4 (Music from the HBO Original Series)', 'album_id': '7tzVd1fwkxsorytCBjEJkU', 'album_release_date': '2023-06-23', 'album_url': 'https://open.spotify.com/album/7tzVd1fwkxsorytCBjEJkU', 'album_total_tracks': 3}, {'album_name': 'Belong Together', 'album_id': '3PlCMwyq6nuQYtoYproV1o', 'album_release_date': '2024-02-16', 'album_url': 'https://open.spotify.com/album/3PlCMwyq6nuQYtoYproV1o', 'album_total_tracks': 1}, {'album_name': 'Saturn', 'album_id': '1fmBMCSSkSlvxyoy1vut2k', 'album_release_date': '2024-02-22', 'album_url': 'https://open.spotify.com/album/1fmBMCSSkSlvxyoy1vut2k', 'album_total_tracks': 5}, {'album_name': 'THE TORTURED POETS DEPARTMENT', 'album_id': '1Mo4aZ8pdj6L1jx8zSwJnt', 'album_release_date': '2024-04-18', 'album_url': 'https://open.spotify.com/album/1Mo4aZ8pdj6L1jx8zSwJnt', 'album_total_tracks': 16}, {'album_name': 'Lover', 'album_id': '1NAmidJlEaVgA3MpcPFYGq', 'album_release_date': '2019-08-23', 'album_url': 'https://open.spotify.com/album/1NAmidJlEaVgA3MpcPFYGq', 'album_total_tracks': 18}, {'album_name': 'Madonna', 'album_id': '0QZVRL2HC24voXfxWmpHvd', 'album_release_date': '2024-03-08', 'album_url': 'https://open.spotify.com/album/0QZVRL2HC24voXfxWmpHvd', 'album_total_tracks': 1}, {'album_name': \"Harry's House\", 'album_id': '5r36AJ6VOJtp00oxSkBZ5h', 'album_release_date': '2022-05-20', 'album_url': 'https://open.spotify.com/album/5r36AJ6VOJtp00oxSkBZ5h', 'album_total_tracks': 13}, {'album_name': 'What Happens Now?', 'album_id': '40HsqPqeSR9Xe3IyAJWr6e', 'album_release_date': '2024-02-16', 'album_url': 'https://open.spotify.com/album/40HsqPqeSR9Xe3IyAJWr6e', 'album_total_tracks': 8}, {'album_name': 'greedy', 'album_id': '3UOV8XvCwMKaATRNXrYCjN', 'album_release_date': '2023-09-15', 'album_url': 'https://open.spotify.com/album/3UOV8XvCwMKaATRNXrYCjN', 'album_total_tracks': 1}, {'album_name': 'THE TORTURED POETS DEPARTMENT', 'album_id': '1Mo4aZ8pdj6L1jx8zSwJnt', 'album_release_date': '2024-04-18', 'album_url': 'https://open.spotify.com/album/1Mo4aZ8pdj6L1jx8zSwJnt', 'album_total_tracks': 16}, {'album_name': 'FERXXOCALIPSIS', 'album_id': '0lgs2Sa82lyX89nBUWyUy6', 'album_release_date': '2023-12-01', 'album_url': 'https://open.spotify.com/album/0lgs2Sa82lyX89nBUWyUy6', 'album_total_tracks': 10}, {'album_name': 'UTOPIA', 'album_id': '18NOKLkZETa4sWwLMIm0UZ', 'album_release_date': '2023-07-28', 'album_url': 'https://open.spotify.com/album/18NOKLkZETa4sWwLMIm0UZ', 'album_total_tracks': 19}, {'album_name': 'Pedro', 'album_id': '5y6RXjI5VPR0RyInghTbf1', 'album_release_date': '2024-03-29', 'album_url': 'https://open.spotify.com/album/5y6RXjI5VPR0RyInghTbf1', 'album_total_tracks': 1}, {'album_name': 'Europapa', 'album_id': '3v1pSXwPFLvjQWbcN1iwKS', 'album_release_date': '2024-02-29', 'album_url': 'https://open.spotify.com/album/3v1pSXwPFLvjQWbcN1iwKS', 'album_total_tracks': 2}, {'album_name': 'SUPER REAL ME', 'album_id': '6irebIc6UO8fN0jl4UlzBS', 'album_release_date': '2024-03-25', 'album_url': 'https://open.spotify.com/album/6irebIc6UO8fN0jl4UlzBS', 'album_total_tracks': 4}, {'album_name': 'Fireworks & Rollerblades', 'album_id': '168CdR21lfn0TTyw1Pkdcm', 'album_release_date': '2024-04-05', 'album_url': 'https://open.spotify.com/album/168CdR21lfn0TTyw1Pkdcm', 'album_total_tracks': 15}, {'album_name': 'Stick Season', 'album_id': '50ZenUP4O2Q5eCy2NRNvuz', 'album_release_date': '2022-10-14', 'album_url': 'https://open.spotify.com/album/50ZenUP4O2Q5eCy2NRNvuz', 'album_total_tracks': 14}, {'album_name': 'THE TORTURED POETS DEPARTMENT', 'album_id': '1Mo4aZ8pdj6L1jx8zSwJnt', 'album_release_date': '2024-04-18', 'album_url': 'https://open.spotify.com/album/1Mo4aZ8pdj6L1jx8zSwJnt', 'album_total_tracks': 16}, {'album_name': 'THE TORTURED POETS DEPARTMENT', 'album_id': '1Mo4aZ8pdj6L1jx8zSwJnt', 'album_release_date': '2024-04-18', 'album_url': 'https://open.spotify.com/album/1Mo4aZ8pdj6L1jx8zSwJnt', 'album_total_tracks': 16}, {'album_name': 'I Love You.', 'album_id': '4xkM0BwLM9H2IUcbYzpcBI', 'album_release_date': '2013-04-19', 'album_url': 'https://open.spotify.com/album/4xkM0BwLM9H2IUcbYzpcBI', 'album_total_tracks': 11}, {'album_name': 'ADIVINO', 'album_id': '3sRyLQf04m9vm40JNRFiCl', 'album_release_date': '2024-04-25', 'album_url': 'https://open.spotify.com/album/3sRyLQf04m9vm40JNRFiCl', 'album_total_tracks': 1}, {'album_name': 'AM', 'album_id': '78bpIziExqiI9qztvNFlQu', 'album_release_date': '2013-09-09', 'album_url': 'https://open.spotify.com/album/78bpIziExqiI9qztvNFlQu', 'album_total_tracks': 12}, {'album_name': 'Good Luck, Babe!', 'album_id': '1WAjjRMfZjEXtB0lQrAw6Q', 'album_release_date': '2024-04-05', 'album_url': 'https://open.spotify.com/album/1WAjjRMfZjEXtB0lQrAw6Q', 'album_total_tracks': 1}, {'album_name': 'Tell Ur Girlfriend', 'album_id': '0S8DGX9LmBkRSVi3ywcCOT', 'album_release_date': '2024-02-07', 'album_url': 'https://open.spotify.com/album/0S8DGX9LmBkRSVi3ywcCOT', 'album_total_tracks': 1}, {'album_name': 'THE TORTURED POETS DEPARTMENT', 'album_id': '1Mo4aZ8pdj6L1jx8zSwJnt', 'album_release_date': '2024-04-18', 'album_url': 'https://open.spotify.com/album/1Mo4aZ8pdj6L1jx8zSwJnt', 'album_total_tracks': 16}, {'album_name': 'The Land Is Inhospitable and So Are We', 'album_id': '2Cn1d2KgbkAqbZCJ1RzdkA', 'album_release_date': '2023-09-15', 'album_url': 'https://open.spotify.com/album/2Cn1d2KgbkAqbZCJ1RzdkA', 'album_total_tracks': 11}, {'album_name': 'The Code', 'album_id': '30euLVaktPWmngBsGDUYdA', 'album_release_date': '2024-02-29', 'album_url': 'https://open.spotify.com/album/30euLVaktPWmngBsGDUYdA', 'album_total_tracks': 1}, {'album_name': 'THE TORTURED POETS DEPARTMENT', 'album_id': '1Mo4aZ8pdj6L1jx8zSwJnt', 'album_release_date': '2024-04-18', 'album_url': 'https://open.spotify.com/album/1Mo4aZ8pdj6L1jx8zSwJnt', 'album_total_tracks': 16}, {'album_name': 'meet the grahams', 'album_id': '5PGH88Cwual1Nj8d2RsKP0', 'album_release_date': '2024-05-03', 'album_url': 'https://open.spotify.com/album/5PGH88Cwual1Nj8d2RsKP0', 'album_total_tracks': 1}, {'album_name': 'Strange Trails', 'album_id': '4sD1qg4jwTZR4mvR4Iflk5', 'album_release_date': '2015-04-06', 'album_url': 'https://open.spotify.com/album/4sD1qg4jwTZR4mvR4Iflk5', 'album_total_tracks': 14}, {'album_name': 'Family Matters', 'album_id': '3qwCuSISrIUpyt6sB5edmQ', 'album_release_date': '2024-05-03', 'album_url': 'https://open.spotify.com/album/3qwCuSISrIUpyt6sB5edmQ', 'album_total_tracks': 1}, {'album_name': 'Si No Quieres No', 'album_id': '6WkOBnYkj6y5iSr14uhUZF', 'album_release_date': '2024-03-10', 'album_url': 'https://open.spotify.com/album/6WkOBnYkj6y5iSr14uhUZF', 'album_total_tracks': 1}, {'album_name': 'COWBOY CARTER', 'album_id': '6BzxX6zkDsYKFJ04ziU5xQ', 'album_release_date': '2024-03-29', 'album_url': 'https://open.spotify.com/album/6BzxX6zkDsYKFJ04ziU5xQ', 'album_total_tracks': 27}]\n"
     ]
    }
   ],
   "source": [
    "# create list of dictionary extracting important keys we need from the messy json data for albums\n",
    "\n",
    "album_list =[]\n",
    "for row in data['items']:\n",
    "    album_name = row['track']['album']['name']\n",
    "    album_id = row['track']['album']['id']\n",
    "    album_release_date = row['track']['album']['release_date']\n",
    "    album_url = row['track']['album']['external_urls']['spotify']\n",
    "    album_total_tracks = row['track']['album']['total_tracks']\n",
    "\n",
    "    album_dictionary = {\"album_name\": album_name, \"album_id\":album_id, \"album_release_date\": album_release_date, \"album_url\": album_url, \n",
    "                        \"album_total_tracks\": album_total_tracks}\n",
    "    album_list.append(album_dictionary)\n",
    "\n"
   ]
  },
  {
   "cell_type": "code",
   "execution_count": 52,
   "metadata": {},
   "outputs": [],
   "source": [
    "# create list of dictionary extracting important keys we need from the messy json data for artists\n",
    "\n",
    "artist_list = []\n",
    "for row in data['items']:\n",
    "    artist_name = row['track']['artists'][0]['name']\n",
    "    artist_id = row['track']['artists'][0]['id']\n",
    "    artist_url = row['track']['artists'][0]['href']\n",
    "\n",
    "    artist_dict = {\"artist_name\": artist_name, \"artist_id\": artist_id, \"artist_url\": artist_url}\n",
    "    artist_list.append(artist_dict)"
   ]
  },
  {
   "cell_type": "code",
   "execution_count": 61,
   "metadata": {},
   "outputs": [
    {
     "data": {
      "text/plain": [
       "'2024-05-17T09:18:55Z'"
      ]
     },
     "execution_count": 61,
     "metadata": {},
     "output_type": "execute_result"
    }
   ],
   "source": [
    "data['items'][1]['added_at']"
   ]
  },
  {
   "cell_type": "code",
   "execution_count": 70,
   "metadata": {},
   "outputs": [
    {
     "name": "stdout",
     "output_type": "stream",
     "text": [
      "[{'song_id': '7fzHQizxTqy8wTXwlrgPQQ', 'song_name': 'MILLION DOLLAR BABY', 'song_duration': 155151, 'song_popularity': 97, 'song_added': '2024-05-17T09:18:55Z', 'album_id': '52TwRwdTUMtkpglbOE5IRz', 'artist_id': '1WaFQSHVGZQJTbf0BdxdNo'}, {'song_id': '6AI3ezQ4o3HUoP6Dhudph3', 'song_name': 'Not Like Us', 'song_duration': 274192, 'song_popularity': 97, 'song_added': '2024-05-17T09:18:55Z', 'album_id': '5JjnoGJyOxfSZUZtk2rRwZ', 'artist_id': '2YZyLoL8N0Wb9xBt1NhZWg'}, {'song_id': '7221xIgOnuakPdLqT0F3nP', 'song_name': 'I Had Some Help (Feat. Morgan Wallen)', 'song_duration': 178205, 'song_popularity': 93, 'song_added': '2024-05-17T09:18:55Z', 'album_id': '1woYXxyyxTQJ0E0AhZE6mj', 'artist_id': '246dkjvS1zLTtiykXe5h60'}, {'song_id': '2qSkIjg1o9h3YT9RAgYN75', 'song_name': 'Espresso', 'song_duration': 175459, 'song_popularity': 99, 'song_added': '2024-05-17T09:18:55Z', 'album_id': '5quMTd5zeI9yW5UDua8wS4', 'artist_id': '74KM79TiuVKeVCqs8QtB0B'}, {'song_id': '2GxrNKugF82CnoRFbQfzPf', 'song_name': 'i like the way you kiss me', 'song_duration': 142514, 'song_popularity': 100, 'song_added': '2024-05-17T09:18:55Z', 'album_id': '5HIWDdg3g9CTOtnevKDl1z', 'artist_id': '0PCCGZ0wGLizHt2KZ7hhA2'}, {'song_id': '2OzhQlSqBEmt7hmkYxfT6m', 'song_name': 'Fortnight (feat. Post Malone)', 'song_duration': 228965, 'song_popularity': 96, 'song_added': '2024-05-17T09:18:55Z', 'album_id': '1Mo4aZ8pdj6L1jx8zSwJnt', 'artist_id': '06HL4z0CvFAxyc27GXpf02'}, {'song_id': '2FQrifJ1N335Ljm3TjTVVf', 'song_name': 'A Bar Song (Tipsy)', 'song_duration': 171291, 'song_popularity': 96, 'song_added': '2024-05-17T09:18:55Z', 'album_id': '6egBeCLeGITzGSo5VyRjwZ', 'artist_id': '3y2cIKLjiOlp1Np37WiUdH'}, {'song_id': '6XjDF6nds4DE2BBbagZol6', 'song_name': 'Gata Only', 'song_duration': 222000, 'song_popularity': 98, 'song_added': '2024-05-17T09:18:55Z', 'album_id': '5tSQtQGkrCJx3hoQxmLgfM', 'artist_id': '7CvTknweLr9feJtRGrpDBy'}, {'song_id': '5Z0UnEtpLDQyYlWwgi8m9C', 'song_name': 'Too Sweet', 'song_duration': 251424, 'song_popularity': 91, 'song_added': '2024-05-17T09:18:55Z', 'album_id': '3P4SQqMMgjqfqVxgLwtYRk', 'artist_id': '2FXC3k01G6Gw61bmprjgqS'}, {'song_id': '3xkHsmpQCBMytMJNiDf3Ii', 'song_name': 'Beautiful Things', 'song_duration': 180304, 'song_popularity': 91, 'song_added': '2024-05-17T09:18:55Z', 'album_id': '168CdR21lfn0TTyw1Pkdcm', 'artist_id': '22wbnEMDvgVIAGdFeek6ET'}, {'song_id': '51ZQ1vr10ffzbwIjDCwqm4', 'song_name': \"we can't be friends (wait for your love)\", 'song_duration': 228639, 'song_popularity': 94, 'song_added': '2024-05-17T09:18:55Z', 'album_id': '5EYKrEDnKhhcNxGedaRQeK', 'artist_id': '66CXWjxzNUsdJxJ2JdwvnR'}, {'song_id': '3qhlB30KknSejmIvZZLjOD', 'song_name': 'End of Beginning', 'song_duration': 159245, 'song_popularity': 97, 'song_added': '2024-05-17T09:18:55Z', 'album_id': '4JDXBZdRPId4devseaAOKH', 'artist_id': '5p9HO3XC5P3BLxJs5Mtrhm'}, {'song_id': '77DRzu7ERs0TX3roZcre7Q', 'song_name': 'euphoria', 'song_duration': 383639, 'song_popularity': 94, 'song_added': '2024-05-17T09:18:55Z', 'album_id': '32bR4LcEc1PvJEhaKoo4ZN', 'artist_id': '2YZyLoL8N0Wb9xBt1NhZWg'}, {'song_id': '4q5YezDOIPcoLr8R81x9qy', 'song_name': 'I Can Do It With a Broken Heart', 'song_duration': 218004, 'song_popularity': 91, 'song_added': '2024-05-17T09:18:55Z', 'album_id': '1Mo4aZ8pdj6L1jx8zSwJnt', 'artist_id': '06HL4z0CvFAxyc27GXpf02'}, {'song_id': '2tudvzsrR56uom6smgOcSf', 'song_name': 'Like That', 'song_duration': 267706, 'song_popularity': 96, 'song_added': '2024-05-17T09:18:55Z', 'album_id': '4iqbFIdGOTzXeDtt9owjQn', 'artist_id': '1RyvyyTE3xzB2ZywiAwp0i'}, {'song_id': '17phhZDn6oGtzMe56NuWvj', 'song_name': 'Lose Control', 'song_duration': 210688, 'song_popularity': 93, 'song_added': '2024-05-17T09:18:55Z', 'album_id': '7nacKlk586eLRBSIsrk9DB', 'artist_id': '33qOK5uJ8AR2xuQQAhHump'}, {'song_id': '5bi0gh89wRuH2OgjdAKFsb', 'song_name': 'Santa', 'song_duration': 193038, 'song_popularity': 93, 'song_added': '2024-05-17T09:18:55Z', 'album_id': '0SqUi6bPIlAaWfvZibBfia', 'artist_id': '1fctva4kpRbg2k3v7kwRuS'}, {'song_id': '7CyPwkp0oE8Ro9Dd5CUDjW', 'song_name': 'One Of The Girls (with JENNIE, Lily Rose Depp)', 'song_duration': 244684, 'song_popularity': 94, 'song_added': '2024-05-17T09:18:55Z', 'album_id': '7tzVd1fwkxsorytCBjEJkU', 'artist_id': '1Xyo4u8uXC1ZmMpatF05PJ'}, {'song_id': '5uQ7de4EWjb3rkcFxyEOpu', 'song_name': 'Belong Together', 'song_duration': 148317, 'song_popularity': 93, 'song_added': '2024-05-17T09:18:55Z', 'album_id': '3PlCMwyq6nuQYtoYproV1o', 'artist_id': '11p2E654TTU8e0nZWBR4AL'}, {'song_id': '1bjeWoagtHmUKputLVyDxQ', 'song_name': 'Saturn', 'song_duration': 186191, 'song_popularity': 94, 'song_added': '2024-05-17T09:18:55Z', 'album_id': '1fmBMCSSkSlvxyoy1vut2k', 'artist_id': '7tYKF4w9nC0nq9CsPZTHyP'}, {'song_id': '2F3N9tdombb64aW6VtZOdo', 'song_name': 'Down Bad', 'song_duration': 261228, 'song_popularity': 88, 'song_added': '2024-05-17T09:18:55Z', 'album_id': '1Mo4aZ8pdj6L1jx8zSwJnt', 'artist_id': '06HL4z0CvFAxyc27GXpf02'}, {'song_id': '1BxfuPKGuaTgP7aM0Bbdwr', 'song_name': 'Cruel Summer', 'song_duration': 178426, 'song_popularity': 94, 'song_added': '2024-05-17T09:18:55Z', 'album_id': '1NAmidJlEaVgA3MpcPFYGq', 'artist_id': '06HL4z0CvFAxyc27GXpf02'}, {'song_id': '5LhI8m7n8xlQmNe3b7Rwis', 'song_name': 'Madonna', 'song_duration': 187087, 'song_popularity': 92, 'song_added': '2024-05-17T09:18:55Z', 'album_id': '0QZVRL2HC24voXfxWmpHvd', 'artist_id': '0elWFr7TW8piilVRYJUe4P'}, {'song_id': '4Dvkj6JhhA12EX05fT7y2e', 'song_name': 'As It Was', 'song_duration': 167303, 'song_popularity': 92, 'song_added': '2024-05-17T09:18:55Z', 'album_id': '5r36AJ6VOJtp00oxSkBZ5h', 'artist_id': '6KImCVD70vtIoJWnq6nGn3'}, {'song_id': '2uqYupMHANxnwgeiXTZXzd', 'song_name': 'Austin', 'song_duration': 171782, 'song_popularity': 92, 'song_added': '2024-05-17T09:18:55Z', 'album_id': '40HsqPqeSR9Xe3IyAJWr6e', 'artist_id': '7Ez6lTtSMjMf2YSYpukP1I'}, {'song_id': '3rUGC1vUpkDG9CZFHMur1t', 'song_name': 'greedy', 'song_duration': 131872, 'song_popularity': 94, 'song_added': '2024-05-17T09:18:55Z', 'album_id': '3UOV8XvCwMKaATRNXrYCjN', 'artist_id': '45dkTj5sMRSjrmBSBeiHym'}, {'song_id': '36t6frENUtCYKuZus6aYDO', 'song_name': 'Who’s Afraid of Little Old Me?', 'song_duration': 334084, 'song_popularity': 84, 'song_added': '2024-05-17T09:18:55Z', 'album_id': '1Mo4aZ8pdj6L1jx8zSwJnt', 'artist_id': '06HL4z0CvFAxyc27GXpf02'}, {'song_id': '7bywjHOc0wSjGGbj04XbVi', 'song_name': 'LUNA', 'song_duration': 196800, 'song_popularity': 93, 'song_added': '2024-05-17T09:18:55Z', 'album_id': '0lgs2Sa82lyX89nBUWyUy6', 'artist_id': '2LRoIwlKmHjgvigdNGBHNo'}, {'song_id': '42VsgItocQwOQC3XWZ8JNA', 'song_name': 'FE!N (feat. Playboi Carti)', 'song_duration': 191700, 'song_popularity': 93, 'song_added': '2024-05-17T09:18:55Z', 'album_id': '18NOKLkZETa4sWwLMIm0UZ', 'artist_id': '0Y5tJX1MQlPlqiwlOH1tJY'}, {'song_id': '48lxT5qJF0yYyf2z4wB4xW', 'song_name': 'Pedro', 'song_duration': 144846, 'song_popularity': 92, 'song_added': '2024-05-17T09:18:55Z', 'album_id': '5y6RXjI5VPR0RyInghTbf1', 'artist_id': '1c3uso4iIeeX3P0bhKaQDq'}, {'song_id': '0uHrMbMv3c78398pIANDqR', 'song_name': 'Europapa', 'song_duration': 160218, 'song_popularity': 87, 'song_added': '2024-05-17T09:18:55Z', 'album_id': '3v1pSXwPFLvjQWbcN1iwKS', 'artist_id': '6s5ubAp65wXoTZefE01RNR'}, {'song_id': '1aKvZDoLGkNMxoRYgkckZG', 'song_name': 'Magnetic', 'song_duration': 160688, 'song_popularity': 93, 'song_added': '2024-05-17T09:18:55Z', 'album_id': '6irebIc6UO8fN0jl4UlzBS', 'artist_id': '36cgvBn0aadzOijnjjwqMN'}, {'song_id': '51eSHglvG1RJXtL3qI5trr', 'song_name': 'Slow It Down', 'song_duration': 161831, 'song_popularity': 90, 'song_added': '2024-05-17T09:18:55Z', 'album_id': '168CdR21lfn0TTyw1Pkdcm', 'artist_id': '22wbnEMDvgVIAGdFeek6ET'}, {'song_id': '0mflMxspEfB0VbI1kyLiAv', 'song_name': 'Stick Season', 'song_duration': 182346, 'song_popularity': 93, 'song_added': '2024-05-17T09:18:55Z', 'album_id': '50ZenUP4O2Q5eCy2NRNvuz', 'artist_id': '2RQXRUsr4IW1f3mKyKsy4B'}, {'song_id': '0W0iAC1VGlB82PI6elxFYf', 'song_name': 'Guilty as Sin?', 'song_duration': 254365, 'song_popularity': 84, 'song_added': '2024-05-17T09:18:55Z', 'album_id': '1Mo4aZ8pdj6L1jx8zSwJnt', 'artist_id': '06HL4z0CvFAxyc27GXpf02'}, {'song_id': '3Vevii7qKqrmW8CcyzBHDl', 'song_name': 'So Long, London', 'song_duration': 262974, 'song_popularity': 85, 'song_added': '2024-05-17T09:18:55Z', 'album_id': '1Mo4aZ8pdj6L1jx8zSwJnt', 'artist_id': '06HL4z0CvFAxyc27GXpf02'}, {'song_id': '2QjOHCTQ1Jl3zawyYOpxh6', 'song_name': 'Sweater Weather', 'song_duration': 240400, 'song_popularity': 91, 'song_added': '2024-05-17T09:18:55Z', 'album_id': '4xkM0BwLM9H2IUcbYzpcBI', 'artist_id': '77SW9BnxLY8rJ0RciFqkHh'}, {'song_id': '0LZy30mVmxqUpdQmaXKXBd', 'song_name': 'ADIVINO', 'song_duration': 278644, 'song_popularity': 90, 'song_added': '2024-05-17T09:18:55Z', 'album_id': '3sRyLQf04m9vm40JNRFiCl', 'artist_id': '7iK8PXO48WeuP03g8YR51W'}, {'song_id': '5XeFesFbtLpXzIVDNQP22n', 'song_name': 'I Wanna Be Yours', 'song_duration': 183956, 'song_popularity': 92, 'song_added': '2024-05-17T09:18:55Z', 'album_id': '78bpIziExqiI9qztvNFlQu', 'artist_id': '7Ln80lUS6He07XvHI8qqHH'}, {'song_id': '0WbMK4wrZ1wFSty9F7FCgu', 'song_name': 'Good Luck, Babe!', 'song_duration': 218423, 'song_popularity': 91, 'song_added': '2024-05-17T09:18:55Z', 'album_id': '1WAjjRMfZjEXtB0lQrAw6Q', 'artist_id': '7GlBOeep6PqTfFi59PTUUN'}, {'song_id': '3lMzT16MjAKKXF7pSZn13B', 'song_name': 'Tell Ur Girlfriend', 'song_duration': 124444, 'song_popularity': 91, 'song_added': '2024-05-17T09:18:55Z', 'album_id': '0S8DGX9LmBkRSVi3ywcCOT', 'artist_id': '4OVbrPbhvK46A1uXTU1u5F'}, {'song_id': '5og4Qzt92jJzVDkOtSEilb', 'song_name': 'But Daddy I Love Him', 'song_duration': 340428, 'song_popularity': 84, 'song_added': '2024-05-17T09:18:55Z', 'album_id': '1Mo4aZ8pdj6L1jx8zSwJnt', 'artist_id': '06HL4z0CvFAxyc27GXpf02'}, {'song_id': '3vkCueOmm7xQDoJ17W1Pm3', 'song_name': 'My Love Mine All Mine', 'song_duration': 137773, 'song_popularity': 93, 'song_added': '2024-05-17T09:18:55Z', 'album_id': '2Cn1d2KgbkAqbZCJ1RzdkA', 'artist_id': '2uYWxilOVlUdk4oV9DvwqK'}, {'song_id': '1EjIXKhNHI00ZLMRpS8iz8', 'song_name': 'The Code', 'song_duration': 180141, 'song_popularity': 84, 'song_added': '2024-05-17T09:18:55Z', 'album_id': '30euLVaktPWmngBsGDUYdA', 'artist_id': '5Wg72TowYBWIcSo3K2r84N'}, {'song_id': '2XXwLdtuAcE0HSCu61ijAb', 'song_name': 'My Boy Only Breaks His Favorite Toys', 'song_duration': 203801, 'song_popularity': 84, 'song_added': '2024-05-17T09:18:55Z', 'album_id': '1Mo4aZ8pdj6L1jx8zSwJnt', 'artist_id': '06HL4z0CvFAxyc27GXpf02'}, {'song_id': '4S8PxReB1UiDR2F5x1lyIR', 'song_name': 'meet the grahams', 'song_duration': 392138, 'song_popularity': 88, 'song_added': '2024-05-17T09:18:55Z', 'album_id': '5PGH88Cwual1Nj8d2RsKP0', 'artist_id': '2YZyLoL8N0Wb9xBt1NhZWg'}, {'song_id': '3hRV0jL3vUpRrcy398teAU', 'song_name': 'The Night We Met', 'song_duration': 208211, 'song_popularity': 90, 'song_added': '2024-05-17T09:18:55Z', 'album_id': '4sD1qg4jwTZR4mvR4Iflk5', 'artist_id': '6ltzsmQQbmdoHHbLZ4ZN25'}, {'song_id': '1wFFFzJ5EsKbBWZriAcubN', 'song_name': 'Family Matters', 'song_duration': 456933, 'song_popularity': 89, 'song_added': '2024-05-17T09:18:55Z', 'album_id': '3qwCuSISrIUpyt6sB5edmQ', 'artist_id': '3TVXtAsR1Inumwj472S9r4'}, {'song_id': '1C84d9abZVKWHT2YYpoean', 'song_name': 'Si No Quieres No', 'song_duration': 147011, 'song_popularity': 89, 'song_added': '2024-05-17T09:18:55Z', 'album_id': '6WkOBnYkj6y5iSr14uhUZF', 'artist_id': '0pePYDrJGk8gqMRbXrLJC8'}, {'song_id': '7wLShogStyDeZvL0a6daN5', 'song_name': \"TEXAS HOLD 'EM\", 'song_duration': 233456, 'song_popularity': 85, 'song_added': '2024-05-17T09:18:55Z', 'album_id': '6BzxX6zkDsYKFJ04ziU5xQ', 'artist_id': '6vWDO969PvNqNYHIOW5v0m'}]\n"
     ]
    }
   ],
   "source": [
    "# Created the list of dict extracting important keys for the data from messy json data for songs\n",
    "\n",
    "song_list = []\n",
    "for row in data['items']:\n",
    "    song_id= row['track']['id']\n",
    "    song_name = row['track']['name']\n",
    "    song_duration = row['track']['duration_ms']\n",
    "    song_popularity = row['track']['popularity']\n",
    "    song_added = row['added_at']\n",
    "    album_id = row['track']['album']['id']\n",
    "    artist_id = row['track']['artists'][0]['id']\n",
    "\n",
    "    song_dict = {\"song_id\": song_id, \"song_name\": song_name, \"song_duration\": song_duration, \"song_popularity\": song_popularity, \n",
    "                 \"song_added\": song_added,\n",
    "                 \"album_id\": album_id, \"artist_id\": artist_id}\n",
    "    \n",
    "    song_list.append(song_dict)\n",
    "\n"
   ]
  },
  {
   "cell_type": "code",
   "execution_count": 96,
   "metadata": {},
   "outputs": [],
   "source": [
    "# Convert the list of dictionary into data frame for all album, song and artist\n",
    "\n",
    "album_df = pd.DataFrame.from_dict(album_list)\n",
    "artist_df = pd.DataFrame.from_dict(artist_list)\n",
    "song_df = pd.DataFrame.from_dict(song_list)\n"
   ]
  },
  {
   "cell_type": "code",
   "execution_count": 77,
   "metadata": {},
   "outputs": [
    {
     "name": "stdout",
     "output_type": "stream",
     "text": [
      "<class 'pandas.core.frame.DataFrame'>\n",
      "RangeIndex: 50 entries, 0 to 49\n",
      "Data columns (total 3 columns):\n",
      " #   Column       Non-Null Count  Dtype \n",
      "---  ------       --------------  ----- \n",
      " 0   artist_name  50 non-null     object\n",
      " 1   artist_id    50 non-null     object\n",
      " 2   artist_url   50 non-null     object\n",
      "dtypes: object(3)\n",
      "memory usage: 1.3+ KB\n"
     ]
    }
   ],
   "source": [
    "artist_df.head()"
   ]
  },
  {
   "cell_type": "code",
   "execution_count": 71,
   "metadata": {},
   "outputs": [
    {
     "data": {
      "text/html": [
       "<div>\n",
       "<style scoped>\n",
       "    .dataframe tbody tr th:only-of-type {\n",
       "        vertical-align: middle;\n",
       "    }\n",
       "\n",
       "    .dataframe tbody tr th {\n",
       "        vertical-align: top;\n",
       "    }\n",
       "\n",
       "    .dataframe thead th {\n",
       "        text-align: right;\n",
       "    }\n",
       "</style>\n",
       "<table border=\"1\" class=\"dataframe\">\n",
       "  <thead>\n",
       "    <tr style=\"text-align: right;\">\n",
       "      <th></th>\n",
       "      <th>song_id</th>\n",
       "      <th>song_name</th>\n",
       "      <th>song_duration</th>\n",
       "      <th>song_popularity</th>\n",
       "      <th>song_added</th>\n",
       "      <th>album_id</th>\n",
       "      <th>artist_id</th>\n",
       "    </tr>\n",
       "  </thead>\n",
       "  <tbody>\n",
       "    <tr>\n",
       "      <th>0</th>\n",
       "      <td>7fzHQizxTqy8wTXwlrgPQQ</td>\n",
       "      <td>MILLION DOLLAR BABY</td>\n",
       "      <td>155151</td>\n",
       "      <td>97</td>\n",
       "      <td>2024-05-17T09:18:55Z</td>\n",
       "      <td>52TwRwdTUMtkpglbOE5IRz</td>\n",
       "      <td>1WaFQSHVGZQJTbf0BdxdNo</td>\n",
       "    </tr>\n",
       "    <tr>\n",
       "      <th>1</th>\n",
       "      <td>6AI3ezQ4o3HUoP6Dhudph3</td>\n",
       "      <td>Not Like Us</td>\n",
       "      <td>274192</td>\n",
       "      <td>97</td>\n",
       "      <td>2024-05-17T09:18:55Z</td>\n",
       "      <td>5JjnoGJyOxfSZUZtk2rRwZ</td>\n",
       "      <td>2YZyLoL8N0Wb9xBt1NhZWg</td>\n",
       "    </tr>\n",
       "    <tr>\n",
       "      <th>2</th>\n",
       "      <td>7221xIgOnuakPdLqT0F3nP</td>\n",
       "      <td>I Had Some Help (Feat. Morgan Wallen)</td>\n",
       "      <td>178205</td>\n",
       "      <td>93</td>\n",
       "      <td>2024-05-17T09:18:55Z</td>\n",
       "      <td>1woYXxyyxTQJ0E0AhZE6mj</td>\n",
       "      <td>246dkjvS1zLTtiykXe5h60</td>\n",
       "    </tr>\n",
       "    <tr>\n",
       "      <th>3</th>\n",
       "      <td>2qSkIjg1o9h3YT9RAgYN75</td>\n",
       "      <td>Espresso</td>\n",
       "      <td>175459</td>\n",
       "      <td>99</td>\n",
       "      <td>2024-05-17T09:18:55Z</td>\n",
       "      <td>5quMTd5zeI9yW5UDua8wS4</td>\n",
       "      <td>74KM79TiuVKeVCqs8QtB0B</td>\n",
       "    </tr>\n",
       "    <tr>\n",
       "      <th>4</th>\n",
       "      <td>2GxrNKugF82CnoRFbQfzPf</td>\n",
       "      <td>i like the way you kiss me</td>\n",
       "      <td>142514</td>\n",
       "      <td>100</td>\n",
       "      <td>2024-05-17T09:18:55Z</td>\n",
       "      <td>5HIWDdg3g9CTOtnevKDl1z</td>\n",
       "      <td>0PCCGZ0wGLizHt2KZ7hhA2</td>\n",
       "    </tr>\n",
       "  </tbody>\n",
       "</table>\n",
       "</div>"
      ],
      "text/plain": [
       "                  song_id                              song_name  \\\n",
       "0  7fzHQizxTqy8wTXwlrgPQQ                    MILLION DOLLAR BABY   \n",
       "1  6AI3ezQ4o3HUoP6Dhudph3                            Not Like Us   \n",
       "2  7221xIgOnuakPdLqT0F3nP  I Had Some Help (Feat. Morgan Wallen)   \n",
       "3  2qSkIjg1o9h3YT9RAgYN75                               Espresso   \n",
       "4  2GxrNKugF82CnoRFbQfzPf             i like the way you kiss me   \n",
       "\n",
       "   song_duration  song_popularity            song_added  \\\n",
       "0         155151               97  2024-05-17T09:18:55Z   \n",
       "1         274192               97  2024-05-17T09:18:55Z   \n",
       "2         178205               93  2024-05-17T09:18:55Z   \n",
       "3         175459               99  2024-05-17T09:18:55Z   \n",
       "4         142514              100  2024-05-17T09:18:55Z   \n",
       "\n",
       "                 album_id               artist_id  \n",
       "0  52TwRwdTUMtkpglbOE5IRz  1WaFQSHVGZQJTbf0BdxdNo  \n",
       "1  5JjnoGJyOxfSZUZtk2rRwZ  2YZyLoL8N0Wb9xBt1NhZWg  \n",
       "2  1woYXxyyxTQJ0E0AhZE6mj  246dkjvS1zLTtiykXe5h60  \n",
       "3  5quMTd5zeI9yW5UDua8wS4  74KM79TiuVKeVCqs8QtB0B  \n",
       "4  5HIWDdg3g9CTOtnevKDl1z  0PCCGZ0wGLizHt2KZ7hhA2  "
      ]
     },
     "execution_count": 71,
     "metadata": {},
     "output_type": "execute_result"
    }
   ],
   "source": [
    "song_df.head()"
   ]
  },
  {
   "cell_type": "code",
   "execution_count": 76,
   "metadata": {},
   "outputs": [
    {
     "data": {
      "text/html": [
       "<div>\n",
       "<style scoped>\n",
       "    .dataframe tbody tr th:only-of-type {\n",
       "        vertical-align: middle;\n",
       "    }\n",
       "\n",
       "    .dataframe tbody tr th {\n",
       "        vertical-align: top;\n",
       "    }\n",
       "\n",
       "    .dataframe thead th {\n",
       "        text-align: right;\n",
       "    }\n",
       "</style>\n",
       "<table border=\"1\" class=\"dataframe\">\n",
       "  <thead>\n",
       "    <tr style=\"text-align: right;\">\n",
       "      <th></th>\n",
       "      <th>album_name</th>\n",
       "      <th>album_id</th>\n",
       "      <th>album_release_date</th>\n",
       "      <th>album_url</th>\n",
       "      <th>album_total_tracks</th>\n",
       "    </tr>\n",
       "  </thead>\n",
       "  <tbody>\n",
       "    <tr>\n",
       "      <th>0</th>\n",
       "      <td>MILLION DOLLAR BABY</td>\n",
       "      <td>52TwRwdTUMtkpglbOE5IRz</td>\n",
       "      <td>2024-04-26</td>\n",
       "      <td>https://open.spotify.com/album/52TwRwdTUMtkpgl...</td>\n",
       "      <td>2</td>\n",
       "    </tr>\n",
       "    <tr>\n",
       "      <th>1</th>\n",
       "      <td>Not Like Us</td>\n",
       "      <td>5JjnoGJyOxfSZUZtk2rRwZ</td>\n",
       "      <td>2024-05-04</td>\n",
       "      <td>https://open.spotify.com/album/5JjnoGJyOxfSZUZ...</td>\n",
       "      <td>1</td>\n",
       "    </tr>\n",
       "    <tr>\n",
       "      <th>2</th>\n",
       "      <td>I Had Some Help</td>\n",
       "      <td>1woYXxyyxTQJ0E0AhZE6mj</td>\n",
       "      <td>2024-05-10</td>\n",
       "      <td>https://open.spotify.com/album/1woYXxyyxTQJ0E0...</td>\n",
       "      <td>1</td>\n",
       "    </tr>\n",
       "    <tr>\n",
       "      <th>3</th>\n",
       "      <td>Espresso</td>\n",
       "      <td>5quMTd5zeI9yW5UDua8wS4</td>\n",
       "      <td>2024-04-12</td>\n",
       "      <td>https://open.spotify.com/album/5quMTd5zeI9yW5U...</td>\n",
       "      <td>1</td>\n",
       "    </tr>\n",
       "    <tr>\n",
       "      <th>4</th>\n",
       "      <td>i like the way you kiss me</td>\n",
       "      <td>5HIWDdg3g9CTOtnevKDl1z</td>\n",
       "      <td>2024-03-19</td>\n",
       "      <td>https://open.spotify.com/album/5HIWDdg3g9CTOtn...</td>\n",
       "      <td>1</td>\n",
       "    </tr>\n",
       "  </tbody>\n",
       "</table>\n",
       "</div>"
      ],
      "text/plain": [
       "                   album_name                album_id album_release_date  \\\n",
       "0         MILLION DOLLAR BABY  52TwRwdTUMtkpglbOE5IRz         2024-04-26   \n",
       "1                 Not Like Us  5JjnoGJyOxfSZUZtk2rRwZ         2024-05-04   \n",
       "2             I Had Some Help  1woYXxyyxTQJ0E0AhZE6mj         2024-05-10   \n",
       "3                    Espresso  5quMTd5zeI9yW5UDua8wS4         2024-04-12   \n",
       "4  i like the way you kiss me  5HIWDdg3g9CTOtnevKDl1z         2024-03-19   \n",
       "\n",
       "                                           album_url  album_total_tracks  \n",
       "0  https://open.spotify.com/album/52TwRwdTUMtkpgl...                   2  \n",
       "1  https://open.spotify.com/album/5JjnoGJyOxfSZUZ...                   1  \n",
       "2  https://open.spotify.com/album/1woYXxyyxTQJ0E0...                   1  \n",
       "3  https://open.spotify.com/album/5quMTd5zeI9yW5U...                   1  \n",
       "4  https://open.spotify.com/album/5HIWDdg3g9CTOtn...                   1  "
      ]
     },
     "execution_count": 76,
     "metadata": {},
     "output_type": "execute_result"
    }
   ],
   "source": [
    "album_df.head()"
   ]
  },
  {
   "cell_type": "code",
   "execution_count": 79,
   "metadata": {},
   "outputs": [
    {
     "name": "stdout",
     "output_type": "stream",
     "text": [
      "<class 'pandas.core.frame.DataFrame'>\n",
      "RangeIndex: 50 entries, 0 to 49\n",
      "Data columns (total 5 columns):\n",
      " #   Column              Non-Null Count  Dtype         \n",
      "---  ------              --------------  -----         \n",
      " 0   album_name          50 non-null     object        \n",
      " 1   album_id            50 non-null     object        \n",
      " 2   album_release_date  50 non-null     datetime64[ns]\n",
      " 3   album_url           50 non-null     object        \n",
      " 4   album_total_tracks  50 non-null     int64         \n",
      "dtypes: datetime64[ns](1), int64(1), object(3)\n",
      "memory usage: 2.1+ KB\n"
     ]
    }
   ],
   "source": [
    "album_df['album_release_date']= pd.to_datetime(album_df['album_release_date'])\n",
    "album_df.info()"
   ]
  },
  {
   "cell_type": "code",
   "execution_count": 81,
   "metadata": {},
   "outputs": [
    {
     "name": "stdout",
     "output_type": "stream",
     "text": [
      "<class 'pandas.core.frame.DataFrame'>\n",
      "RangeIndex: 50 entries, 0 to 49\n",
      "Data columns (total 7 columns):\n",
      " #   Column           Non-Null Count  Dtype              \n",
      "---  ------           --------------  -----              \n",
      " 0   song_id          50 non-null     object             \n",
      " 1   song_name        50 non-null     object             \n",
      " 2   song_duration    50 non-null     int64              \n",
      " 3   song_popularity  50 non-null     int64              \n",
      " 4   song_added       50 non-null     datetime64[ns, UTC]\n",
      " 5   album_id         50 non-null     object             \n",
      " 6   artist_id        50 non-null     object             \n",
      "dtypes: datetime64[ns, UTC](1), int64(2), object(4)\n",
      "memory usage: 2.9+ KB\n"
     ]
    }
   ],
   "source": [
    "song_df['song_added']= pd.to_datetime(song_df['song_added'])\n",
    "song_df.info()"
   ]
  },
  {
   "cell_type": "code",
   "execution_count": 101,
   "metadata": {},
   "outputs": [
    {
     "name": "stdout",
     "output_type": "stream",
     "text": [
      "    song_duration  song_popularity\n",
      "0          155151               97\n",
      "1          274192               97\n",
      "3          175459               99\n",
      "5          228965               96\n",
      "6          171291               96\n",
      "7          222000               98\n",
      "11         159245               97\n",
      "14         267706               96\n"
     ]
    }
   ],
   "source": [
    "# Assuming song_df is your DataFrame\n",
    "\n",
    "# Applying the filter conditions\n",
    "filtered_df = song_df[(song_df['song_duration'] > 150000) & (song_df['song_popularity'] > 95)]\n",
    "\n",
    "# Selecting only the 'song_duration' and 'song_popularity' columns\n",
    "filtered_columns_df = filtered_df[['song_duration', 'song_popularity']]\n",
    "\n",
    "# Printing the resulting DataFrame with the selected columns\n",
    "print(filtered_columns_df)\n"
   ]
  }
 ],
 "metadata": {
  "kernelspec": {
   "display_name": "Python 3",
   "language": "python",
   "name": "python3"
  },
  "language_info": {
   "codemirror_mode": {
    "name": "ipython",
    "version": 3
   },
   "file_extension": ".py",
   "mimetype": "text/x-python",
   "name": "python",
   "nbconvert_exporter": "python",
   "pygments_lexer": "ipython3",
   "version": "3.12.0"
  }
 },
 "nbformat": 4,
 "nbformat_minor": 2
}
